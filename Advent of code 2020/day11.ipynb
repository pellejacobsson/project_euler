{
 "cells": [
  {
   "cell_type": "code",
   "execution_count": 28,
   "metadata": {},
   "outputs": [
    {
     "data": {
      "text/plain": [
       "98-element Array{Array{SubString{String},1},1}:\n",
       " [\"L\", \"L\", \"L\", \"L\", \"L\", \"L\", \"L\", \"L\", \"L\", \".\"  …  \"L\", \"L\", \"L\", \"L\", \"L\", \"L\", \"L\", \"L\", \"L\", \"L\"]\n",
       " [\"L\", \"L\", \"L\", \"L\", \"L\", \"L\", \"L\", \"L\", \"L\", \"L\"  …  \".\", \"L\", \"L\", \"L\", \"L\", \"L\", \"L\", \"L\", \"L\", \"L\"]\n",
       " [\"L\", \"L\", \"L\", \"L\", \"L\", \"L\", \"L\", \"L\", \"L\", \".\"  …  \"L\", \"L\", \"L\", \"L\", \"L\", \"L\", \"L\", \"L\", \"L\", \"L\"]\n",
       " [\"L\", \"L\", \"L\", \"L\", \"L\", \"L\", \"L\", \"L\", \"L\", \"L\"  …  \"L\", \".\", \"L\", \"L\", \"L\", \"L\", \"L\", \"L\", \"L\", \"L\"]\n",
       " [\"L\", \"L\", \"L\", \"L\", \"L\", \"L\", \"L\", \"L\", \"L\", \".\"  …  \".\", \"L\", \"L\", \"L\", \"L\", \"L\", \"L\", \"L\", \"L\", \"L\"]\n",
       " [\"L\", \"L\", \"L\", \"L\", \"L\", \"L\", \"L\", \"L\", \"L\", \".\"  …  \"L\", \"L\", \"L\", \"L\", \"L\", \"L\", \"L\", \"L\", \"L\", \"L\"]\n",
       " [\"L\", \"L\", \"L\", \"L\", \"L\", \"L\", \"L\", \".\", \"L\", \".\"  …  \".\", \"L\", \"L\", \"L\", \"L\", \"L\", \"L\", \"L\", \"L\", \"L\"]\n",
       " [\"L\", \"L\", \"L\", \"L\", \"L\", \"L\", \"L\", \"L\", \"L\", \"L\"  …  \".\", \"L\", \"L\", \"L\", \"L\", \"L\", \"L\", \"L\", \"L\", \"L\"]\n",
       " [\"L\", \".\", \"L\", \"L\", \"L\", \"L\", \".\", \"L\", \".\", \".\"  …  \"L\", \".\", \".\", \"L\", \"L\", \"L\", \".\", \".\", \".\", \"L\"]\n",
       " [\"L\", \"L\", \"L\", \"L\", \"L\", \"L\", \"L\", \"L\", \"L\", \".\"  …  \"L\", \"L\", \"L\", \".\", \"L\", \"L\", \"L\", \"L\", \"L\", \"L\"]\n",
       " [\"L\", \"L\", \"L\", \"L\", \"L\", \"L\", \"L\", \"L\", \"L\", \"L\"  …  \"L\", \"L\", \"L\", \"L\", \"L\", \"L\", \"L\", \"L\", \"L\", \"L\"]\n",
       " [\"L\", \"L\", \"L\", \"L\", \"L\", \"L\", \"L\", \"L\", \"L\", \"L\"  …  \".\", \"L\", \"L\", \"L\", \"L\", \"L\", \"L\", \"L\", \"L\", \"L\"]\n",
       " [\"L\", \"L\", \"L\", \"L\", \"L\", \"L\", \"L\", \"L\", \"L\", \".\"  …  \".\", \"L\", \"L\", \"L\", \"L\", \"L\", \"L\", \"L\", \"L\", \"L\"]\n",
       " ⋮\n",
       " [\"L\", \"L\", \"L\", \"L\", \"L\", \".\", \"L\", \"L\", \"L\", \".\"  …  \"L\", \"L\", \"L\", \"L\", \"L\", \"L\", \"L\", \"L\", \"L\", \"L\"]\n",
       " [\"L\", \"L\", \"L\", \"L\", \"L\", \"L\", \"L\", \"L\", \"L\", \"L\"  …  \"L\", \"L\", \"L\", \"L\", \"L\", \"L\", \"L\", \"L\", \"L\", \"L\"]\n",
       " [\"L\", \"L\", \"L\", \"L\", \"L\", \"L\", \"L\", \"L\", \"L\", \"L\"  …  \"L\", \"L\", \"L\", \"L\", \"L\", \"L\", \"L\", \"L\", \"L\", \"L\"]\n",
       " [\"L\", \"L\", \"L\", \"L\", \"L\", \"L\", \".\", \"L\", \"L\", \"L\"  …  \"L\", \"L\", \"L\", \"L\", \"L\", \"L\", \"L\", \"L\", \"L\", \"L\"]\n",
       " [\"L\", \"L\", \"L\", \"L\", \"L\", \"L\", \"L\", \"L\", \"L\", \".\"  …  \".\", \"L\", \"L\", \"L\", \"L\", \"L\", \"L\", \"L\", \"L\", \"L\"]\n",
       " [\"L\", \"L\", \"L\", \"L\", \"L\", \"L\", \"L\", \"L\", \"L\", \".\"  …  \".\", \"L\", \"L\", \"L\", \"L\", \"L\", \"L\", \"L\", \"L\", \"L\"]\n",
       " [\"L\", \".\", \"L\", \"L\", \"L\", \"L\", \"L\", \"L\", \"L\", \".\"  …  \".\", \"L\", \"L\", \"L\", \"L\", \"L\", \"L\", \"L\", \"L\", \"L\"]\n",
       " [\"L\", \"L\", \"L\", \"L\", \"L\", \"L\", \"L\", \"L\", \"L\", \".\"  …  \"L\", \"L\", \"L\", \"L\", \"L\", \"L\", \"L\", \"L\", \"L\", \"L\"]\n",
       " [\".\", \"L\", \"L\", \"L\", \"L\", \"L\", \"L\", \"L\", \"L\", \".\"  …  \".\", \"L\", \"L\", \"L\", \"L\", \"L\", \"L\", \"L\", \"L\", \"L\"]\n",
       " [\"L\", \"L\", \"L\", \"L\", \"L\", \"L\", \"L\", \"L\", \"L\", \"L\"  …  \".\", \"L\", \"L\", \"L\", \"L\", \"L\", \"L\", \"L\", \"L\", \"L\"]\n",
       " [\"L\", \"L\", \"L\", \"L\", \"L\", \"L\", \"L\", \"L\", \"L\", \"L\"  …  \".\", \"L\", \"L\", \"L\", \"L\", \"L\", \"L\", \"L\", \"L\", \"L\"]\n",
       " [\"L\", \"L\", \"L\", \"L\", \"L\", \"L\", \"L\", \"L\", \".\", \".\"  …  \".\", \"L\", \"L\", \"L\", \"L\", \"L\", \"L\", \"L\", \"L\", \"L\"]"
      ]
     },
     "execution_count": 28,
     "metadata": {},
     "output_type": "execute_result"
    }
   ],
   "source": [
    "seats = open(\"11_input.txt\") do f\n",
    "    [split(s, \"\") for s in readlines(f)]\n",
    "end"
   ]
  },
  {
   "cell_type": "code",
   "execution_count": 8,
   "metadata": {},
   "outputs": [
    {
     "data": {
      "text/plain": [
       "getfirstseats (generic function with 1 method)"
      ]
     },
     "execution_count": 8,
     "metadata": {},
     "output_type": "execute_result"
    }
   ],
   "source": [
    "function getadjacent(i, j, nrows, ncols)\n",
    "    if i == 1\n",
    "        if j == 1\n",
    "            ija = [(1,2), (2,1), (2,2)]\n",
    "        elseif j == ncols\n",
    "            ija = [(1, j-1), (2, j), (2, j-1)]\n",
    "        else\n",
    "            ija = [(1, j-1), (1, j+1), (2, j), (2, j-1), (2, j+1)]\n",
    "        end\n",
    "    elseif i == nrows\n",
    "        if j == 1\n",
    "            ija = [(i, 2), (i-1, 1), (i-1, 2)]\n",
    "        elseif j == ncols\n",
    "            ija = [(i, j-1), (i-1, j), (i-1, j-1)]\n",
    "        else\n",
    "            ija = [(i, j-1), (i, j+1), (i-1, j-1), (i-1, j), (i-1, j+1)]\n",
    "        end\n",
    "    elseif j == 1\n",
    "        ija = [(i-1, 1), (i+1, 1), (i, 2), (i+1, 2), (i-1, 2)]\n",
    "    elseif j == ncols\n",
    "        ija = [(i-1, j), (i+1, j), (i, j-1), (i+1, j-1), (i-1, j-1)]\n",
    "    else\n",
    "        ija = [(i-1, j-1), (i-1, j), (i-1, j+1), (i+1, j-1), (i+1, j), (i+1, j+1), (i, j-1), (i, j+1)]\n",
    "    end\n",
    "    return ija\n",
    "end\n",
    "\n",
    "function getfirstseats(i, j, nrows, ncols)\n",
    "    r = [seats[i][n] for n = (j+1):ncols]\n",
    "    l = [seats[i][n] for n = (j-1):-1:1]\n",
    "    u = [seats[m][j] for m = (i-1):-1:1]\n",
    "    d = [seats[m][j] for m = (i+1):nrows]\n",
    "    dul = [seats[m][n] for (m,n) in  zip((i-1):-1:1, (j-1):-1:1)]\n",
    "    dur = [seats[m][n] for (m,n) in  zip((i-1):-1:1, (j+1):ncols)]\n",
    "    ddl = [seats[m][n] for (m,n) in  zip((i+1):nrows, (j-1):-1:1)]\n",
    "    ddr = [seats[m][n] for (m,n) in  zip((i+1):nrows, (j+1):ncols)]\n",
    "    s = []\n",
    "    for x in [r, l, u, d, dul, dur, ddl, ddr]\n",
    "        y = x[x .!= \".\"]\n",
    "        if length(y) > 0\n",
    "            push!(s, y[1])\n",
    "        end\n",
    "    end\n",
    "    return s\n",
    "end\n",
    "    "
   ]
  },
  {
   "cell_type": "code",
   "execution_count": 132,
   "metadata": {},
   "outputs": [],
   "source": [
    "nrows = length(seats)\n",
    "ncols = length(seats[1])\n",
    "changed = 1000000\n",
    "changedl = []\n",
    "newseats = deepcopy(seats)\n",
    "while changed != 0\n",
    "    changed = 0\n",
    "    for i in 1:nrows\n",
    "        for j in 1:ncols\n",
    "            if seats[i][j] == \"L\"\n",
    "                if !any([seats[m][n] for (m,n) in getadjacent(i, j, nrows, ncols)] .== \"#\")\n",
    "                    newseats[i][j] = \"#\"\n",
    "                    changed += 1\n",
    "                end\n",
    "            elseif seats[i][j] == \"#\"\n",
    "                if sum([seats[m][n] for (m,n) in getadjacent(i, j, nrows, ncols)] .== \"#\") >= 4\n",
    "                    newseats[i][j] = \"L\"\n",
    "                    changed += 1\n",
    "                end\n",
    "            end\n",
    "        end\n",
    "    end\n",
    "    seats = deepcopy(newseats)\n",
    "    push!(changedl, changed)\n",
    "end"
   ]
  },
  {
   "cell_type": "code",
   "execution_count": 133,
   "metadata": {},
   "outputs": [
    {
     "data": {
      "text/plain": [
       "2476"
      ]
     },
     "execution_count": 133,
     "metadata": {},
     "output_type": "execute_result"
    }
   ],
   "source": [
    "sum([sum(row .== \"#\") for row in seats])"
   ]
  },
  {
   "cell_type": "code",
   "execution_count": 29,
   "metadata": {},
   "outputs": [],
   "source": [
    "nrows = length(seats)\n",
    "ncols = length(seats[1])\n",
    "changed = 1000000\n",
    "changedl = []\n",
    "newseats = deepcopy(seats)\n",
    "while changed != 0\n",
    "    changed = 0\n",
    "    for i in 1:nrows\n",
    "        for j in 1:ncols\n",
    "            if seats[i][j] == \"L\"\n",
    "                if !any(getfirstseats(i, j, nrows, ncols) .== \"#\")\n",
    "                    newseats[i][j] = \"#\"\n",
    "                    changed += 1\n",
    "                end\n",
    "            elseif seats[i][j] == \"#\"\n",
    "                if sum(getfirstseats(i, j, nrows, ncols) .== \"#\") >= 5\n",
    "                    newseats[i][j] = \"L\"\n",
    "                    changed += 1\n",
    "                end\n",
    "            end\n",
    "        end\n",
    "    end\n",
    "    seats = deepcopy(newseats)\n",
    "    push!(changedl, changed)\n",
    "end"
   ]
  },
  {
   "cell_type": "code",
   "execution_count": 30,
   "metadata": {},
   "outputs": [
    {
     "data": {
      "text/plain": [
       "2257"
      ]
     },
     "execution_count": 30,
     "metadata": {},
     "output_type": "execute_result"
    }
   ],
   "source": [
    "sum([sum(row .== \"#\") for row in seats])"
   ]
  },
  {
   "cell_type": "code",
   "execution_count": null,
   "metadata": {},
   "outputs": [],
   "source": []
  }
 ],
 "metadata": {
  "kernelspec": {
   "display_name": "Julia 1.5.2",
   "language": "julia",
   "name": "julia-1.5"
  },
  "language_info": {
   "file_extension": ".jl",
   "mimetype": "application/julia",
   "name": "julia",
   "version": "1.5.2"
  }
 },
 "nbformat": 4,
 "nbformat_minor": 4
}
