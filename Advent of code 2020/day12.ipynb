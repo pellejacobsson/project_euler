{
 "cells": [
  {
   "cell_type": "code",
   "execution_count": 38,
   "metadata": {},
   "outputs": [
    {
     "data": {
      "text/plain": [
       "768-element Array{Int64,1}:\n",
       "   1\n",
       "  17\n",
       "   3\n",
       "  56\n",
       "   5\n",
       "  11\n",
       "   4\n",
       "  94\n",
       "   4\n",
       "   1\n",
       " 180\n",
       "   2\n",
       "  38\n",
       "   ⋮\n",
       "   2\n",
       " 180\n",
       "   5\n",
       "  13\n",
       "   2\n",
       "  90\n",
       "   3\n",
       " 180\n",
       "   4\n",
       "   9\n",
       "  90\n",
       "  39"
      ]
     },
     "execution_count": 38,
     "metadata": {},
     "output_type": "execute_result"
    }
   ],
   "source": [
    "rules = open(\"12_input.txt\") do f\n",
    "    readlines(f)\n",
    "end\n",
    "rule = [r[1] for r in rules]\n",
    "val = [parse(Int, r[2:end]) for r in rules]"
   ]
  },
  {
   "cell_type": "code",
   "execution_count": 12,
   "metadata": {},
   "outputs": [],
   "source": [
    "# North = 0 degrees. East -> x > 0, north -> y > 0\n",
    "x = 0\n",
    "y = 0\n",
    "d = 90\n",
    "for (r, v) in zip(rule, val)\n",
    "    if r == 'N'\n",
    "        y += v\n",
    "    elseif r == 'E'\n",
    "        x += v\n",
    "    elseif r == 'S'\n",
    "        y -= v\n",
    "    elseif r == 'W'\n",
    "        x -= v\n",
    "    elseif r == 'L'\n",
    "        d -= v\n",
    "    elseif r == 'R'\n",
    "        d += v\n",
    "    elseif r == 'F'\n",
    "        if d in [0, 360]\n",
    "            y += v\n",
    "        elseif d == 90\n",
    "            x += v\n",
    "        elseif d == 180\n",
    "            y -= v\n",
    "        elseif d == 270\n",
    "            x -= v\n",
    "        end\n",
    "    end\n",
    "    if d > 360\n",
    "        d -= 360\n",
    "    elseif d < 0\n",
    "        d += 360\n",
    "    end\n",
    "end"
   ]
  },
  {
   "cell_type": "code",
   "execution_count": 16,
   "metadata": {},
   "outputs": [
    {
     "data": {
      "text/plain": [
       "441"
      ]
     },
     "execution_count": 16,
     "metadata": {},
     "output_type": "execute_result"
    }
   ],
   "source": [
    "abs(x) + abs(y)"
   ]
  },
  {
   "cell_type": "code",
   "execution_count": 40,
   "metadata": {},
   "outputs": [],
   "source": [
    "x = 0\n",
    "y = 0\n",
    "wx = 10\n",
    "wy = 1\n",
    "for (r, v) in zip(rule, val)\n",
    "    if r == 'N'\n",
    "        wy += v\n",
    "    elseif r == 'E'\n",
    "        wx += v\n",
    "    elseif r == 'S'\n",
    "        wy -= v\n",
    "    elseif r == 'W'\n",
    "        wx -= v\n",
    "    elseif r == 'L'\n",
    "        if v == 90\n",
    "            wx, wy = -wy, wx\n",
    "        elseif v == 180\n",
    "            wx, wy = -wx, -wy\n",
    "        elseif v == 270\n",
    "            wx, wy = wy, -wx\n",
    "        end\n",
    "    elseif r == 'R'\n",
    "        if v == 90\n",
    "            wx, wy = wy, -wx\n",
    "        elseif v == 180\n",
    "            wx, wy = -wx, -wy\n",
    "        elseif v == 270\n",
    "            wx, wy = -wy, wx\n",
    "        end\n",
    "    elseif r == 'F'\n",
    "        x += v * wx\n",
    "        y += v * wy\n",
    "    end\n",
    "end"
   ]
  },
  {
   "cell_type": "code",
   "execution_count": 41,
   "metadata": {},
   "outputs": [
    {
     "data": {
      "text/plain": [
       "40014"
      ]
     },
     "execution_count": 41,
     "metadata": {},
     "output_type": "execute_result"
    }
   ],
   "source": [
    "abs(x) + abs(y)"
   ]
  },
  {
   "cell_type": "code",
   "execution_count": 27,
   "metadata": {},
   "outputs": [
    {
     "data": {
      "text/plain": [
       "2212"
      ]
     },
     "execution_count": 27,
     "metadata": {},
     "output_type": "execute_result"
    }
   ],
   "source": [
    "x"
   ]
  },
  {
   "cell_type": "code",
   "execution_count": 28,
   "metadata": {},
   "outputs": [
    {
     "data": {
      "text/plain": [
       "-1234"
      ]
     },
     "execution_count": 28,
     "metadata": {},
     "output_type": "execute_result"
    }
   ],
   "source": [
    "y"
   ]
  }
 ],
 "metadata": {
  "kernelspec": {
   "display_name": "Julia 1.5.2",
   "language": "julia",
   "name": "julia-1.5"
  },
  "language_info": {
   "file_extension": ".jl",
   "mimetype": "application/julia",
   "name": "julia",
   "version": "1.5.2"
  }
 },
 "nbformat": 4,
 "nbformat_minor": 4
}
