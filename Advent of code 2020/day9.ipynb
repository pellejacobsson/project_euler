{
 "cells": [
  {
   "cell_type": "code",
   "execution_count": 1,
   "metadata": {},
   "outputs": [
    {
     "data": {
      "text/plain": [
       "1000-element Array{Int64,1}:\n",
       "              33\n",
       "              12\n",
       "              43\n",
       "               4\n",
       "              19\n",
       "              48\n",
       "              21\n",
       "              13\n",
       "              29\n",
       "              34\n",
       "              20\n",
       "              24\n",
       "              25\n",
       "               ⋮\n",
       "  57056786285366\n",
       "  59336129960785\n",
       "  70038458409252\n",
       "  63959459117302\n",
       "  66729267835887\n",
       "  68631410175024\n",
       "  70346634371007\n",
       " 129372508285582\n",
       "  72963771707508\n",
       "  75415171865071\n",
       "  74939409624468\n",
       "  83267654028700"
      ]
     },
     "execution_count": 1,
     "metadata": {},
     "output_type": "execute_result"
    }
   ],
   "source": [
    "numbers = open(\"9_input.txt\") do f\n",
    "    parse.(Int, readlines(f))\n",
    "end"
   ]
  },
  {
   "cell_type": "code",
   "execution_count": 2,
   "metadata": {},
   "outputs": [
    {
     "data": {
      "text/plain": [
       "issum (generic function with 1 method)"
      ]
     },
     "execution_count": 2,
     "metadata": {},
     "output_type": "execute_result"
    }
   ],
   "source": [
    "function issum(n, l)\n",
    "    for m in l\n",
    "        if n - m in l\n",
    "            return true\n",
    "        end\n",
    "    end\n",
    "    return false\n",
    "end"
   ]
  },
  {
   "cell_type": "code",
   "execution_count": 3,
   "metadata": {},
   "outputs": [
    {
     "name": "stdout",
     "output_type": "stream",
     "text": [
      "i = 611: n = 530627549"
     ]
    }
   ],
   "source": [
    "for i = 26:length(numbers)\n",
    "    if !issum(numbers[i], numbers[(i-25):(i-1)])\n",
    "        print(\"i = $i: n = $(numbers[i])\")\n",
    "    end\n",
    "end"
   ]
  },
  {
   "cell_type": "code",
   "execution_count": 6,
   "metadata": {},
   "outputs": [
    {
     "name": "stdout",
     "output_type": "stream",
     "text": [
      "i = 498, j = 514"
     ]
    }
   ],
   "source": [
    "ninvalid = 530627549\n",
    "found = false\n",
    "fi = 0\n",
    "fj = 0\n",
    "for i = 1:length(numbers)\n",
    "    j = i + 1\n",
    "    while sum(numbers[i:j]) <= ninvalid\n",
    "        if sum(numbers[i:j]) == ninvalid\n",
    "            print(\"i = $i, j = $j\")\n",
    "            found = true\n",
    "            fi = i\n",
    "            fj = j\n",
    "            break\n",
    "        else\n",
    "            j += 1\n",
    "        end\n",
    "    end\n",
    "    if found\n",
    "        break\n",
    "    end\n",
    "end"
   ]
  },
  {
   "cell_type": "code",
   "execution_count": 9,
   "metadata": {},
   "outputs": [
    {
     "data": {
      "text/plain": [
       "530627549"
      ]
     },
     "execution_count": 9,
     "metadata": {},
     "output_type": "execute_result"
    }
   ],
   "source": [
    "sum(numbers[fi:fj])"
   ]
  },
  {
   "cell_type": "code",
   "execution_count": 11,
   "metadata": {},
   "outputs": [
    {
     "data": {
      "text/plain": [
       "77730285"
      ]
     },
     "execution_count": 11,
     "metadata": {},
     "output_type": "execute_result"
    }
   ],
   "source": [
    "sum(extrema(numbers[fi:fj]))"
   ]
  },
  {
   "cell_type": "code",
   "execution_count": null,
   "metadata": {},
   "outputs": [],
   "source": []
  }
 ],
 "metadata": {
  "kernelspec": {
   "display_name": "Julia 1.5.2",
   "language": "julia",
   "name": "julia-1.5"
  },
  "language_info": {
   "file_extension": ".jl",
   "mimetype": "application/julia",
   "name": "julia",
   "version": "1.5.2"
  }
 },
 "nbformat": 4,
 "nbformat_minor": 4
}
