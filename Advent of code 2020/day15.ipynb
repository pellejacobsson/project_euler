{
 "cells": [
  {
   "cell_type": "code",
   "execution_count": 48,
   "metadata": {},
   "outputs": [],
   "source": [
    "l = [0, 3, 6]\n",
    "for i = length(l)+1:10\n",
    "    if sum(l[i-1] .== l) == 1\n",
    "        push!(l, 0)\n",
    "    else\n",
    "        age =  diff(findall(x -> x == l[i-1], l))[end]\n",
    "        push!(l, age)\n",
    "    end\n",
    "end"
   ]
  },
  {
   "cell_type": "code",
   "execution_count": 50,
   "metadata": {},
   "outputs": [
    {
     "data": {
      "text/plain": [
       "10-element Array{Int64,1}:\n",
       " 0\n",
       " 3\n",
       " 6\n",
       " 0\n",
       " 3\n",
       " 3\n",
       " 1\n",
       " 0\n",
       " 4\n",
       " 0"
      ]
     },
     "execution_count": 50,
     "metadata": {},
     "output_type": "execute_result"
    }
   ],
   "source": [
    "l"
   ]
  },
  {
   "cell_type": "code",
   "execution_count": 106,
   "metadata": {},
   "outputs": [],
   "source": [
    "#d = Dict(0 => [1], 3 => [2], 6 => [3])\n",
    "#d = Dict(3 => [1], 1 => [2], 2 => [3])\n",
    "#d = Dict(3 => [1], 2 => [2], 1 => [3])\n",
    "#d = Dict(2 => [1], 3 => [2], 1 => [3])\n",
    "d = Dict(0 => [1], 13 => [2], 16 => [3], 17 => [4], 1 => [5], 10 => [6], 6 => [7])\n",
    "j = 6\n",
    "for i = 8:30000000\n",
    "    if length(d[j]) == 1\n",
    "        j = 0\n",
    "        if haskey(d, j)\n",
    "            push!(d[j], i)\n",
    "            d[j] = d[j][end-1:end]\n",
    "        else\n",
    "            d[j] = [i]\n",
    "        end\n",
    "    else\n",
    "        j = d[j][2] - d[j][1]\n",
    "        if haskey(d, j)\n",
    "            push!(d[j], i)\n",
    "            d[j] = d[j][end-1:end]\n",
    "        else\n",
    "            d[j] = [i]\n",
    "        end\n",
    "    end\n",
    "end"
   ]
  },
  {
   "cell_type": "code",
   "execution_count": 107,
   "metadata": {},
   "outputs": [
    {
     "data": {
      "text/plain": [
       "31916"
      ]
     },
     "execution_count": 107,
     "metadata": {},
     "output_type": "execute_result"
    }
   ],
   "source": [
    "j"
   ]
  },
  {
   "cell_type": "code",
   "execution_count": 69,
   "metadata": {},
   "outputs": [
    {
     "data": {
      "text/plain": [
       "1"
      ]
     },
     "execution_count": 69,
     "metadata": {},
     "output_type": "execute_result"
    }
   ],
   "source": [
    "popfirst!(a)"
   ]
  },
  {
   "cell_type": "code",
   "execution_count": 70,
   "metadata": {},
   "outputs": [
    {
     "data": {
      "text/plain": [
       "2-element Array{Int64,1}:\n",
       " 2\n",
       " 3"
      ]
     },
     "execution_count": 70,
     "metadata": {},
     "output_type": "execute_result"
    }
   ],
   "source": [
    "a"
   ]
  },
  {
   "cell_type": "code",
   "execution_count": null,
   "metadata": {},
   "outputs": [],
   "source": []
  }
 ],
 "metadata": {
  "kernelspec": {
   "display_name": "Julia 1.5.2",
   "language": "julia",
   "name": "julia-1.5"
  },
  "language_info": {
   "file_extension": ".jl",
   "mimetype": "application/julia",
   "name": "julia",
   "version": "1.5.2"
  }
 },
 "nbformat": 4,
 "nbformat_minor": 4
}
