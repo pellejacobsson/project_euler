{
 "cells": [
  {
   "cell_type": "code",
   "execution_count": 37,
   "metadata": {},
   "outputs": [
    {
     "data": {
      "text/plain": [
       "371-element Array{String,1}:\n",
       " \"5 + 8 * ((6 * 5 * 8 + 5 + 8) * 7 + 3)\"\n",
       " \"6 * 7 + 7 * (9 * 6 + 6 + 4 * 6) * 5 * 4\"\n",
       " \"((3 * 8 + 7) * 3 * 8 * 8 * 4 * 2) * 8\"\n",
       " \"((4 + 5 * 8 + 6 * 5) * 3 * 4 * 9 * 3 + (9 * 8)) + 2 * 7\"\n",
       " \"(6 + 5) * 6\"\n",
       " \"3 * 4 + 3 + (6 * 3 + (5 + 7 * 7 + 6) * 9)\"\n",
       " \"9 * 6 * (5 + 6) + (3 + 8 * 3 * 4 + 8) + 2 * 3\"\n",
       " \"7 * ((4 * 7 + 7) + 7) + 9 + 2 + 2\"\n",
       " \"5 + 8 + 5 + (8 * 8 * 5) * (5 + (6 * 2 + 4 + 6) + 9 * 6 + 6 + (5 + 6)) * 4\"\n",
       " \"3 * (7 * (6 + 8 * 4 + 7 + 2)) * 9 * (8 * 9) * (6 + 3) + 7\"\n",
       " \"(8 + 4 * (2 * 9) + 6 + 6 + 3) + 4\"\n",
       " \"4 + 6 + (3 + 8 * 2 * 6 * 7 + 3)\"\n",
       " \"3 * 5 + (8 * 2 * (7 * 6 + 8 * 9 * 6)) * ((9 * 3 + 2 * 9 + 2 * 4) * 3) * 7 * 2\"\n",
       " ⋮\n",
       " \"((9 + 9 * 8 + 4 + 6) + (6 * 7 + 4 + 2 * 2 * 3) * 6 * 8) * 3 + 2 + 7 + 3\"\n",
       " \"4 + 4 * 6 + ((8 * 8 * 2) * (3 * 5 + 7 + 2 * 6 * 2) * 4) * 8 * 9\"\n",
       " \"(6 + 4) + (8 + 9 * 9 + 5 + 4 * 8) * 4\"\n",
       " \"3 + 2 + 5 * (5 * 9 * 5 + 4 * 6)\"\n",
       " \"2 + 6 * 8 + (5 + 3 * 6 + (7 + 6 + 3 + 3 * 7))\"\n",
       " \"3 * (7 * 9 + 4 + (4 + 4 + 3 + 4 + 3) + (4 * 6 + 2 * 6)) + 6 + 7 + 6\"\n",
       " \"9 + 5 + 2 * (7 + 7 + (4 + 3 * 8 * 5) * 2) + 6 * 7\"\n",
       " \"(2 + 5 + (9 * 9 * 3 + 6 + 3 + 3)) * (8 * 7 + 4 * 8 * 6)\"\n",
       " \"(4 + (5 + 6 + 5 + 3 * 9 + 9) * 2 * (4 * 5) + 4) + 6 * 2 + 7\"\n",
       " \"9 + ((3 * 8 + 7 * 3) * 7 + (3 * 6 + 5)) + (9 + 9 + 9 * 8)\"\n",
       " \"(7 * 6 + 7) * 5 + 8\"\n",
       " \"3 * (8 + (9 + 9 + 4 * 3 * 6) + 7)\""
      ]
     },
     "execution_count": 37,
     "metadata": {},
     "output_type": "execute_result"
    }
   ],
   "source": [
    "homework = open(\"18_input.txt\") do f\n",
    "    readlines(f)\n",
    "end"
   ]
  },
  {
   "cell_type": "code",
   "execution_count": 42,
   "metadata": {},
   "outputs": [
    {
     "data": {
      "text/plain": [
       "⨥ (generic function with 1 method)"
      ]
     },
     "execution_count": 42,
     "metadata": {},
     "output_type": "execute_result"
    }
   ],
   "source": [
    "×(a::Int, b::Int) = a + b\n",
    "⨥(a::Int, b::Int) = a * b"
   ]
  },
  {
   "cell_type": "code",
   "execution_count": 48,
   "metadata": {},
   "outputs": [
    {
     "data": {
      "text/plain": [
       "heval (generic function with 1 method)"
      ]
     },
     "execution_count": 48,
     "metadata": {},
     "output_type": "execute_result"
    }
   ],
   "source": [
    "function heval(s)\n",
    "    exp = Meta.parse(replace(replace(s, \"+\" => \"×\"), \"*\" => \"⨥\"))\n",
    "    return eval(exp)\n",
    "end"
   ]
  },
  {
   "cell_type": "code",
   "execution_count": 49,
   "metadata": {},
   "outputs": [],
   "source": [
    "s = 0\n",
    "for line in homework\n",
    "    s += heval(line)\n",
    "end"
   ]
  },
  {
   "cell_type": "code",
   "execution_count": 50,
   "metadata": {},
   "outputs": [
    {
     "data": {
      "text/plain": [
       "4208490449905"
      ]
     },
     "execution_count": 50,
     "metadata": {},
     "output_type": "execute_result"
    }
   ],
   "source": [
    "s"
   ]
  },
  {
   "cell_type": "code",
   "execution_count": 47,
   "metadata": {},
   "outputs": [
    {
     "data": {
      "text/plain": [
       "\"a × b ⨥ c\""
      ]
     },
     "execution_count": 47,
     "metadata": {},
     "output_type": "execute_result"
    }
   ],
   "source": [
    "replace(replace(\"a + b * c\", \"+\" => \"×\"), \"*\" => \"⨥\")"
   ]
  },
  {
   "cell_type": "code",
   "execution_count": null,
   "metadata": {},
   "outputs": [],
   "source": []
  }
 ],
 "metadata": {
  "kernelspec": {
   "display_name": "Julia 1.5.2",
   "language": "julia",
   "name": "julia-1.5"
  },
  "language_info": {
   "file_extension": ".jl",
   "mimetype": "application/julia",
   "name": "julia",
   "version": "1.5.2"
  }
 },
 "nbformat": 4,
 "nbformat_minor": 4
}
