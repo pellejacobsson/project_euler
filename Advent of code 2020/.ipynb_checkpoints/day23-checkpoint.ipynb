{
 "cells": [
  {
   "cell_type": "code",
   "execution_count": 71,
   "metadata": {},
   "outputs": [],
   "source": [
    "#cups = [3, 8, 9, 1, 2, 5, 4, 6, 7]\n",
    "cups = [7, 3, 9, 8, 6, 2, 5, 4, 1]\n",
    "cmin, cmax = extrema(cups)\n",
    "\n",
    "cc = 1\n",
    "for i = 1:100\n",
    "    ccval = cups[cc]\n",
    "    c2e = length(cups) - cc\n",
    "    if c2e >= 3\n",
    "        removed = cups[cc+1:cc+3]\n",
    "        left = cups[[1:cc; cc+4:end]]\n",
    "    else\n",
    "        removed = [cups[cc+1:end]; cups[1:3-c2e]]\n",
    "        left = cups[3-c2e+1:cc]\n",
    "    end\n",
    "    dest = cups[cc] - 1\n",
    "    while (dest ∈ removed) | (dest < cmin)\n",
    "        if dest < cmin\n",
    "            dest = cmax\n",
    "        else\n",
    "            dest -= 1\n",
    "        end\n",
    "    end\n",
    "    # @show cups cups[cc] removed dest\n",
    "    destpos = findfirst(x -> x == dest, left)\n",
    "    cups = [left[1:destpos]; removed; left[destpos+1:end]]\n",
    "    cc = findfirst(x -> x == ccval, cups) + 1\n",
    "    if cc > length(cups)\n",
    "        cc = 1\n",
    "    end\n",
    "end"
   ]
  },
  {
   "cell_type": "code",
   "execution_count": 78,
   "metadata": {},
   "outputs": [
    {
     "data": {
      "text/plain": [
       "\"972436815\""
      ]
     },
     "execution_count": 78,
     "metadata": {},
     "output_type": "execute_result"
    }
   ],
   "source": [
    "join([string(cup) for cup in cups])"
   ]
  },
  {
   "cell_type": "code",
   "execution_count": 7,
   "metadata": {},
   "outputs": [],
   "source": [
    "#cups = [3, 8, 9, 1, 2, 5, 4, 6, 7]\n",
    "cups = [7, 3, 9, 8, 6, 2, 5, 4, 1]\n",
    "cups = [cups; collect(10:1000000)]\n",
    "cmin, cmax = extrema(cups)\n",
    "\n",
    "d = Dict()\n",
    "for i = 1:length(cups)-1\n",
    "    d[cups[i]] = cups[i+1]\n",
    "end\n",
    "d[cups[end]] = cups[1]\n",
    "\n",
    "current = 7\n",
    "for i = 1:10000000\n",
    "    removed = [d[current], d[d[current]], d[d[d[current]]]]\n",
    "    dest = current - 1\n",
    "    while (dest ∈ removed) | (dest < cmin)\n",
    "        if dest < cmin\n",
    "            dest = cmax\n",
    "        else\n",
    "            dest -= 1\n",
    "        end\n",
    "    end\n",
    "    d[current] = d[removed[3]]\n",
    "    d[removed[3]] = d[dest]\n",
    "    d[dest] = removed[1]\n",
    "    current = d[current]\n",
    "end\n",
    "    "
   ]
  },
  {
   "cell_type": "code",
   "execution_count": 8,
   "metadata": {},
   "outputs": [
    {
     "data": {
      "text/plain": [
       "3072905352"
      ]
     },
     "execution_count": 8,
     "metadata": {},
     "output_type": "execute_result"
    }
   ],
   "source": [
    "d[1]*d[d[1]]"
   ]
  },
  {
   "cell_type": "code",
   "execution_count": 3,
   "metadata": {},
   "outputs": [
    {
     "data": {
      "text/plain": [
       "316304"
      ]
     },
     "execution_count": 3,
     "metadata": {},
     "output_type": "execute_result"
    }
   ],
   "source": [
    "d[1]"
   ]
  },
  {
   "cell_type": "code",
   "execution_count": 4,
   "metadata": {},
   "outputs": [
    {
     "data": {
      "text/plain": [
       "312186"
      ]
     },
     "execution_count": 4,
     "metadata": {},
     "output_type": "execute_result"
    }
   ],
   "source": [
    "d[d[1]]"
   ]
  },
  {
   "cell_type": "code",
   "execution_count": 3,
   "metadata": {},
   "outputs": [
    {
     "data": {
      "text/plain": [
       "3"
      ]
     },
     "execution_count": 3,
     "metadata": {},
     "output_type": "execute_result"
    }
   ],
   "source": [
    "d = Dict()\n",
    "for i = 1:length(cups)-1\n",
    "    d[cups[i]] = cups[i+1]\n",
    "end\n",
    "d[cups[end]] = cups[1]\n",
    "    "
   ]
  },
  {
   "cell_type": "code",
   "execution_count": null,
   "metadata": {},
   "outputs": [],
   "source": []
  },
  {
   "cell_type": "code",
   "execution_count": 133,
   "metadata": {},
   "outputs": [
    {
     "data": {
      "text/plain": [
       "Dict{Any,Any} with 9 entries:\n",
       "  7 => 3\n",
       "  9 => 1\n",
       "  4 => 6\n",
       "  2 => 5\n",
       "  3 => 8\n",
       "  8 => 9\n",
       "  5 => 4\n",
       "  6 => 7\n",
       "  1 => 2"
      ]
     },
     "execution_count": 133,
     "metadata": {},
     "output_type": "execute_result"
    }
   ],
   "source": [
    "d"
   ]
  },
  {
   "cell_type": "code",
   "execution_count": null,
   "metadata": {},
   "outputs": [],
   "source": []
  }
 ],
 "metadata": {
  "kernelspec": {
   "display_name": "Julia 1.5.2",
   "language": "julia",
   "name": "julia-1.5"
  },
  "language_info": {
   "file_extension": ".jl",
   "mimetype": "application/julia",
   "name": "julia",
   "version": "1.5.2"
  }
 },
 "nbformat": 4,
 "nbformat_minor": 4
}
