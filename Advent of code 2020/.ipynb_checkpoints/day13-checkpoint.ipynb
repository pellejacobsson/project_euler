{
 "cells": [
  {
   "cell_type": "code",
   "execution_count": 1,
   "metadata": {},
   "outputs": [
    {
     "data": {
      "text/plain": [
       "2-element Array{String,1}:\n",
       " \"1001938\"\n",
       " \"41,x,x,x,x,x,x,x,x,x,x,x,x,x,x,x,x,x,x,x,x,x,x,x,x,x,x,x,x,x,x,x,x,x,x,37,x,x,x,x,x,431,x,x,x,x,x,x,x,23,x,x,x,x,13,x,x,x,17,x,19,x,x,x,x,x,x,x,x,x,x,x,863,x,x,x,x,x,x,x,x,x,x,x,x,x,x,x,x,x,x,x,x,x,x,x,x,x,x,x,x,29\""
      ]
     },
     "execution_count": 1,
     "metadata": {},
     "output_type": "execute_result"
    }
   ],
   "source": [
    "tt = open(\"13_input.txt\") do f\n",
    "    readlines(f)\n",
    "end"
   ]
  },
  {
   "cell_type": "code",
   "execution_count": 2,
   "metadata": {},
   "outputs": [
    {
     "data": {
      "text/plain": [
       "\"1789,37,47,1889\""
      ]
     },
     "execution_count": 2,
     "metadata": {},
     "output_type": "execute_result"
    }
   ],
   "source": [
    "test = \"7,13,x,x,59,x,31,19\"\n",
    "test2 = \"17,x,13,19\"\n",
    "test3 = \"67,7,59,61\"\n",
    "test4 = \"67,x,7,59,61\"\n",
    "test5 = \"67,7,x,59,61\"\n",
    "test6 = \"1789,37,47,1889\""
   ]
  },
  {
   "cell_type": "code",
   "execution_count": 43,
   "metadata": {},
   "outputs": [
    {
     "data": {
      "text/plain": [
       "9-element Array{Tuple{Int64,Int64},1}:\n",
       " (0, 41)\n",
       " (2, 37)\n",
       " (390, 431)\n",
       " (20, 23)\n",
       " (11, 13)\n",
       " (10, 17)\n",
       " (16, 19)\n",
       " (791, 863)\n",
       " (15, 29)"
      ]
     },
     "execution_count": 43,
     "metadata": {},
     "output_type": "execute_result"
    }
   ],
   "source": [
    "bid = [(mod(parse(Int, v)-(i-1), parse(Int, v)), parse(Int, v)) for (i, v) in enumerate(split(tt[2], \",\")) if v != \"x\"]"
   ]
  },
  {
   "cell_type": "code",
   "execution_count": 44,
   "metadata": {},
   "outputs": [
    {
     "name": "stdout",
     "output_type": "stream",
     "text": [
      "x = 779\n",
      "x = 123656\n",
      "x = 1431310\n",
      "x = 91659436\n",
      "x = 1851107893\n",
      "x = 48378744867\n",
      "x = 11161837176371\n",
      "x = 556100168221141\n"
     ]
    }
   ],
   "source": [
    "a1 = BigInt(bid[1][1])\n",
    "n1 = BigInt(bid[1][2])\n",
    "n2 = BigInt(1)\n",
    "x = BigInt(bid[1][2])\n",
    "i = 2\n",
    "while i <= length(bid)\n",
    "    a1, n1 = mod(x, n1*n2), n1*n2\n",
    "    a2, n2 = bid[i]\n",
    "    d, m1, m2 = gcdx(n1, n2)\n",
    "    x = a1*m2*n2 + a2*m1*n1\n",
    "    if x < 0\n",
    "        x += BigInt(ceil(abs(x/(n1*n2))))*n1*n2\n",
    "    else\n",
    "        x -= BigInt(floor(x/(n1*n2)))*n1*n2\n",
    "    end\n",
    "    i += 1\n",
    "    @show x\n",
    "end "
   ]
  },
  {
   "cell_type": "code",
   "execution_count": 45,
   "metadata": {},
   "outputs": [
    {
     "data": {
      "text/plain": [
       "556100168221141"
      ]
     },
     "execution_count": 45,
     "metadata": {},
     "output_type": "execute_result"
    }
   ],
   "source": [
    "x"
   ]
  },
  {
   "cell_type": "code",
   "execution_count": null,
   "metadata": {},
   "outputs": [],
   "source": []
  }
 ],
 "metadata": {
  "kernelspec": {
   "display_name": "Julia 1.5.2",
   "language": "julia",
   "name": "julia-1.5"
  },
  "language_info": {
   "file_extension": ".jl",
   "mimetype": "application/julia",
   "name": "julia",
   "version": "1.5.2"
  }
 },
 "nbformat": 4,
 "nbformat_minor": 4
}
