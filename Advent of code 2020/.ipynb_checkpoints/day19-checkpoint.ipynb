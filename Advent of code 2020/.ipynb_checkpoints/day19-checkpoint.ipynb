{
 "cells": [
  {
   "cell_type": "code",
   "execution_count": 98,
   "metadata": {},
   "outputs": [
    {
     "data": {
      "text/plain": [
       "136"
      ]
     },
     "execution_count": 98,
     "metadata": {},
     "output_type": "execute_result"
    }
   ],
   "source": [
    "input = open(\"19_input.txt\") do f\n",
    "    readlines(f)\n",
    "end\n",
    "brkidx = findall(x -> x == \"\", input)[1]"
   ]
  },
  {
   "cell_type": "code",
   "execution_count": 100,
   "metadata": {},
   "outputs": [],
   "source": [
    "rule = Dict()\n",
    "for line in input[1:brkidx-1]\n",
    "    ls = split(line, \" \")\n",
    "    key = parse(Int, ls[1][1:end-1])\n",
    "    if ls[2][1] == '\\\"'\n",
    "        rule[key] = ls[2][2]\n",
    "    elseif \"|\" ∉ ls\n",
    "        rule[key] = [parse(Int, s) for s in ls[2:end]]\n",
    "    else\n",
    "        idx = findall(x -> x == \"|\", ls)[1]\n",
    "        rule[key] = [[parse(Int, s) for s in ls[2:idx-1]]'; [parse(Int, s) for s in ls[idx+1:end]]']\n",
    "    end\n",
    "end"
   ]
  },
  {
   "cell_type": "code",
   "execution_count": 101,
   "metadata": {},
   "outputs": [
    {
     "data": {
      "text/plain": [
       "Dict{Any,Any} with 135 entries:\n",
       "  68  => [119 3; 116 33]\n",
       "  124 => [119 72; 116 39]\n",
       "  2   => [116 97; 119 82]\n",
       "  89  => [73 116; 108 119]\n",
       "  11  => [42, 31]\n",
       "  39  => [119 41; 116 132]\n",
       "  46  => [119 14; 116 61]\n",
       "  134 => [116; 119]\n",
       "  85  => [116 55; 119 94]\n",
       "  25  => [116, 50]\n",
       "  55  => [118 116; 17 119]\n",
       "  66  => [116 52; 119 93]\n",
       "  29  => [116 82; 119 24]\n",
       "  58  => [107 116; 84 119]\n",
       "  131 => [116 110; 119 15]\n",
       "  42  => [109 119; 20 116]\n",
       "  59  => [87 119; 7 116]\n",
       "  8   => [42]\n",
       "  74  => [24 119; 61 116]\n",
       "  95  => [90 116; 28 119]\n",
       "  90  => [116 105; 119 12]\n",
       "  20  => [116 130; 119 45]\n",
       "  111 => [116 97; 119 50]\n",
       "  57  => [119 87; 116 50]\n",
       "  14  => [119, 119]\n",
       "  ⋮   => ⋮"
      ]
     },
     "execution_count": 101,
     "metadata": {},
     "output_type": "execute_result"
    }
   ],
   "source": [
    "rule"
   ]
  },
  {
   "cell_type": "code",
   "execution_count": 102,
   "metadata": {},
   "outputs": [
    {
     "data": {
      "text/plain": [
       "oktext (generic function with 1 method)"
      ]
     },
     "execution_count": 102,
     "metadata": {},
     "output_type": "execute_result"
    }
   ],
   "source": [
    "function oktext(r, n)\n",
    "    if r[n] ∈ ['a', 'b']\n",
    "        return r[n]\n",
    "    elseif length(size(r[n])) == 1\n",
    "        return prod([oktext(r, rr) for rr in r[n]])\n",
    "    elseif length(size(r[n])) == 2\n",
    "        return \"(\" * prod([oktext(r, rr) for rr in r[n][1,:]]) * \"|\" * prod([oktext(r, rr) for rr in r[n][2,:]]) * \")\"\n",
    "    end\n",
    "end\n",
    "        "
   ]
  },
  {
   "cell_type": "code",
   "execution_count": 103,
   "metadata": {},
   "outputs": [
    {
     "data": {
      "text/plain": [
       "r\"^((a(b(b(a((a|b)(a|b)a|(ab|ba)b)|b(bba|abb))|a(((ba|bb)b|((a|b)b|ba)a)a|(bab|abb)b))|a(((b(a|b)(a|b)|a(ab|bb))a|(b(a(a|b)|ba)|a((a|b)b|ba))b)b|(((ab|bb)b|(ab|aa)a)a|(aaa|b(aa|b(a|b)))b)a))|b(a(((((a|b)b|aa)b|(aa|ba)a)a|(b(a(a|b)|ba)|a(ba|bb))b)b|((a(ab|ba)|b(aa|ba))b|((aa|ba)b|baa)a)a)|b(b(b(bbb|(ab|aa)a)|a(baa|(ab|bb)b))|a(b(baa|aaa)|a(a(ab|aa)|bbb)))))b|(a(b(a(b(a(ab|bb)|b((a|b)b|aa))|a(a(aa|ba)|b((a|b)b|aa)))|b(a(b(ab|bb)|a(a|b)(a|b))|b(baa|(ab|ba)b)))|a(a((bba|abb)b|a((a|b)b|ba)a)|b(b(b(a|b)(a|b)|a(ab|bb))|a(bab|aaa))))|b(a(a(b(a(ab|bb)|b((a|b)b|ba))|a((ab|ba)a|((a|b)b|aa)b))|b((abb|(aa|ba)a)a|((ab|aa)a|aab)b))|b(b(b(aaa|b(ba|bb))|a(b(a|b)(a|b)|a(ab|bb)))|a(b(b(ba|bb)|a(ab|aa))|a(b(ab|ba)|a(ab|bb))))))a)((a(b(b(a((a|b)(a|b)a|(ab|ba)b)|b(bba|abb))|a(((ba|bb)b|((a|b)b|ba)a)a|(bab|abb)b))|a(((b(a|b)(a|b)|a(ab|bb))a|(b(a(a|b)|ba)|a((a|b)b|ba))b)b|(((ab|bb)b|(ab|aa)a)a|(aaa|b(aa|b(a|b)))b)a))|b(a(((((a|b)b|aa)b|(aa|ba)a)a|(b(a(a|b)|ba)|a(ba|bb))b)b|((a(ab|ba)|b(aa|ba))b|((aa|ba)b|baa)a)a)|b(b(b(bbb|(ab|aa)a)|a(baa|(ab|bb)b))|a(b(baa|aaa)|a(a(ab|aa)|bbb)))))b|(a(b(a(b(a(ab|bb)|b((a|b)b|aa))|a(a(aa|ba)|b((a|b)b|aa)))|b(a(b(ab|bb)|a(a|b)(a|b))|b(baa|(ab|ba)b)))|a(a((bba|abb)b|a((a|b)b|ba)a)|b(b(b(a|b)(a|b)|a(ab|bb))|a(bab|aaa))))|b(a(a(b(a(ab|bb)|b((a|b)b|ba))|a((ab|ba)a|((a|b)b|aa)b))|b((abb|(aa|ba)a)a|((ab|aa)a|aab)b))|b(b(b(aaa|b(ba|bb))|a(b(a|b)(a|b)|a(ab|bb)))|a(b(b(ba|bb)|a(ab|aa))|a(b(ab|ba)|a(ab|bb))))))a)(((a(b((bba|a(ab|aa))b|(aaa|b(ba|bb))a)|a((b(a(a|b)|ba)|aab)a|(bab|a((a|b)b|ba))b))|b(((((a|b)b|aa)b|baa)b|(a((a|b)b|aa)|bba)a)a|((bab|(aa|b(a|b))a)a|((a|b)(a|b)b|((a|b)b|ba)a)b)b))a|(((a((ba|bb)b|baa)|b((ba|bb)b|((a|b)b|ba)a))b|(((ab|bb)b|(ab|aa)a)a|(((a|b)b|ba)b|(a|b)(a|b)a)b)a)a|(b(b(bba|a(aa|b(a|b)))|a(a(ab|aa)|bbb))|a(b(((a|b)b|ba)b|aaa)|a(bbb|aaa)))b)b)b|((a(b((bbb|aaa)b|(bba|aaa)a)|a((aab|(a(a|b)|ba)a)a|((ab|ba)b|(a(a|b)|ba)a)b))|b(b((a(ab|ba)|bba)b|((ab|bb)b|bba)a)|a(aaba|b((ba|bb)a|((a|b)b|ba)b))))b|(((((ab|aa)a|(ab|ba)b)b|((ab|ba)a|(ab|aa)b)a)b|(a(aba|(a|b)(a|b)b)|b((a|b)(a|b)b|((a|b)b|ba)a))a)b|(((b(a|b)(a|b)|aaa)b|(b(ab|ba)|a(ab|bb))a)b|((a(a|b)(a|b)|baa)b|(aaa|b(aa|b(a|b)))a)a)a)a)a)$\""
      ]
     },
     "execution_count": 103,
     "metadata": {},
     "output_type": "execute_result"
    }
   ],
   "source": [
    "rexp = Regex(\"^\" * oktext(rule, 0) * \"\\$\")"
   ]
  },
  {
   "cell_type": "code",
   "execution_count": 105,
   "metadata": {},
   "outputs": [],
   "source": [
    "s = 0\n",
    "for line in input[brkidx+1:end]\n",
    "    if occursin(rexp, line)\n",
    "        s += 1\n",
    "    end\n",
    "end"
   ]
  },
  {
   "cell_type": "code",
   "execution_count": 108,
   "metadata": {},
   "outputs": [
    {
     "data": {
      "text/plain": [
       "134"
      ]
     },
     "execution_count": 108,
     "metadata": {},
     "output_type": "execute_result"
    }
   ],
   "source": [
    "sum(map(x -> occursin(rexp, x), input[brkidx+1:end]))"
   ]
  },
  {
   "cell_type": "code",
   "execution_count": 109,
   "metadata": {},
   "outputs": [
    {
     "data": {
      "text/plain": [
       "2×2 Array{Int64,2}:\n",
       " 109  119\n",
       "  20  116"
      ]
     },
     "execution_count": 109,
     "metadata": {},
     "output_type": "execute_result"
    }
   ],
   "source": [
    "rule[42]"
   ]
  },
  {
   "cell_type": "code",
   "execution_count": 116,
   "metadata": {},
   "outputs": [
    {
     "data": {
      "text/plain": [
       "\"((a(b(b(a((a|b)(a|b)a|(ab|ba)b)|b(bba|abb))|a(((ba|bb)b|((a|b)b|ba)a)a|(bab|abb)b))|a(((b(a|b)(a|b)|a(ab|bb))a|(b(a(a|b)|ba)|a((a|b)b|ba))b)b|(((ab|bb)b|(ab|aa)a)a|(aaa|b(aa|b(a|b)))b)a))|b(a(((((a|b)b|aa)b|(aa|ba)a)a|(b(a(a|b)|ba)|a(ba|bb))b)b|((a(ab|ba)|b(aa|ba))b|((aa|ba)b|baa)a)a)|b(b(b(bbb|(ab|aa)a)|a(baa|(ab|bb)b))|a(b(baa|aaa)|a(a(ab|aa)|bbb)))))b|(a(b(a(b(a(ab|bb)|b((a|b)b|aa))|a(a(aa|ba)|b((a|b)b|aa)))|b(a(b(ab|bb)|a(a|b)(a|b))|b(baa|(ab|ba)b)))|a(a((bba|abb)b|a((a|b)b|ba)a)|b(b(b(a|b)(a|b)|a(ab|bb))|a(bab|aaa))))|b(a(a(b(a(ab|bb)|b((a|b)b|ba))|a((ab|ba)a|((a|b)b|aa)b))|b((abb|(aa|ba)a)a|((ab|aa)a|aab)b))|b(b(b(aaa|b(ba|bb))|a(b(a|b)(a|b)|a(ab|bb)))|a(b(b(ba|bb)|a(ab|aa))|a(b(ab|ba)|a(ab|bb))))))a)\""
      ]
     },
     "execution_count": 116,
     "metadata": {},
     "output_type": "execute_result"
    }
   ],
   "source": [
    "oktext(rule, 42)"
   ]
  },
  {
   "cell_type": "code",
   "execution_count": 117,
   "metadata": {},
   "outputs": [
    {
     "data": {
      "text/plain": [
       "2-element Array{Int64,1}:\n",
       "  8\n",
       " 11"
      ]
     },
     "execution_count": 117,
     "metadata": {},
     "output_type": "execute_result"
    }
   ],
   "source": [
    "rule[0]"
   ]
  },
  {
   "cell_type": "code",
   "execution_count": 120,
   "metadata": {},
   "outputs": [
    {
     "data": {
      "text/plain": [
       "1-element Array{Int64,1}:\n",
       " 42"
      ]
     },
     "execution_count": 120,
     "metadata": {},
     "output_type": "execute_result"
    }
   ],
   "source": [
    "rule[8]"
   ]
  },
  {
   "cell_type": "code",
   "execution_count": 121,
   "metadata": {},
   "outputs": [
    {
     "data": {
      "text/plain": [
       "2-element Array{Int64,1}:\n",
       " 42\n",
       " 31"
      ]
     },
     "execution_count": 121,
     "metadata": {},
     "output_type": "execute_result"
    }
   ],
   "source": [
    "rule[11]"
   ]
  },
  {
   "cell_type": "code",
   "execution_count": 134,
   "metadata": {},
   "outputs": [],
   "source": [
    "rexp = Regex(oktext(rule, 42))\n",
    "m = []\n",
    "for line in input[brkidx+1:end]\n",
    "    if occursin(rexp, line)\n",
    "        push!(m, line)\n",
    "    end\n",
    "end"
   ]
  },
  {
   "cell_type": "code",
   "execution_count": 137,
   "metadata": {},
   "outputs": [
    {
     "data": {
      "text/plain": [
       "\"(((a(b((bba|a(ab|aa))b|(aaa|b(ba|bb))a)|a((b(a(a|b)|ba)|aab)a|(bab|a((a|b)b|ba))b))|b(((((a|b)b|aa)b|baa)b|(a((a|b)b|aa)|bba)a)a|((bab|(aa|b(a|b))a)a|((a|b)(a|b)b|((a|b)b|ba)a)b)b))a|(((a((ba|bb)b|baa)|b((ba|bb)b|((a|b)b|ba)a))b|(((ab|bb)b|(ab|aa)a)a|(((a|b)b|ba)b|(a|b)(a|b)a)b)a)a|(b(b(bba|a(aa|b(a|b)))|a(a(ab|aa)|bbb))|a(b(((a|b)b|ba)b|aaa)|a(bbb|aaa)))b)b)b|((a(b((bbb|aaa)b|(bba|aaa)a)|a((aab|(a(a|b)|ba)a)a|((ab|ba)b|(a(a|b)|ba)a)b))|b(b((a(ab|ba)|bba)b|((ab|bb)b|bba)a)|a(aaba|b((ba|bb)a|((a|b)b|ba)b))))b|(((((ab|aa)a|(ab|ba)b)b|((ab|ba)a|(ab|aa)b)a)b|(a(aba|(a|b)(a|b)b)|b((a|b)(a|b)b|((a|b)b|ba)a))a)b|(((b(a|b)(a|b)|aaa)b|(b(ab|ba)|a(ab|bb))a)b|((a(a|b)(a|b)|baa)b|(aaa|b(aa|b(a|b)))a)a)a)a)a)\""
      ]
     },
     "execution_count": 137,
     "metadata": {},
     "output_type": "execute_result"
    }
   ],
   "source": [
    "rexp42 = oktext(rule, 42)\n",
    "rexp31 = oktext(rule, 31)"
   ]
  },
  {
   "cell_type": "code",
   "execution_count": 149,
   "metadata": {},
   "outputs": [],
   "source": [
    "rexp = [rexp42 * rexp42 * rexp31]\n",
    "for x = 1:5\n",
    "    push!(rexp, prod([rexp42, prod(repeat(rexp42, x)), prod(repeat(rexp31, x))]))\n",
    "    push!(rexp, prod([prod(repeat(rexp42, x)), rexp42, rexp31]))\n",
    "    for y = 1:5\n",
    "        push!(rexp, prod([prod(repeat(rexp42, x)), prod(repeat(rexp42, y)), prod(repeat(rexp31, y))]))\n",
    "    end\n",
    "end\n"
   ]
  },
  {
   "cell_type": "code",
   "execution_count": 152,
   "metadata": {},
   "outputs": [],
   "source": [
    "s = 0\n",
    "for line in input[brkidx+1:end]\n",
    "    for rx in rexp\n",
    "        if occursin(Regex(\"^\" * rx * \"\\$\"), line)\n",
    "            s += 1\n",
    "            break\n",
    "        end\n",
    "    end\n",
    "end"
   ]
  },
  {
   "cell_type": "code",
   "execution_count": 153,
   "metadata": {},
   "outputs": [
    {
     "data": {
      "text/plain": [
       "377"
      ]
     },
     "execution_count": 153,
     "metadata": {},
     "output_type": "execute_result"
    }
   ],
   "source": [
    "s"
   ]
  },
  {
   "cell_type": "code",
   "execution_count": null,
   "metadata": {},
   "outputs": [],
   "source": []
  }
 ],
 "metadata": {
  "kernelspec": {
   "display_name": "Julia 1.5.2",
   "language": "julia",
   "name": "julia-1.5"
  },
  "language_info": {
   "file_extension": ".jl",
   "mimetype": "application/julia",
   "name": "julia",
   "version": "1.5.2"
  }
 },
 "nbformat": 4,
 "nbformat_minor": 4
}
