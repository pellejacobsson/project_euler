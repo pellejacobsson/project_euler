{
 "cells": [
  {
   "cell_type": "code",
   "execution_count": 117,
   "metadata": {},
   "outputs": [
    {
     "data": {
      "text/plain": [
       "53-element Array{String,1}:\n",
       " \"Player 1:\"\n",
       " \"24\"\n",
       " \"22\"\n",
       " \"26\"\n",
       " \"6\"\n",
       " \"14\"\n",
       " \"19\"\n",
       " \"27\"\n",
       " \"17\"\n",
       " \"39\"\n",
       " \"34\"\n",
       " \"40\"\n",
       " \"41\"\n",
       " ⋮\n",
       " \"37\"\n",
       " \"29\"\n",
       " \"18\"\n",
       " \"45\"\n",
       " \"16\"\n",
       " \"1\"\n",
       " \"46\"\n",
       " \"38\"\n",
       " \"35\"\n",
       " \"2\"\n",
       " \"33\"\n",
       " \"31\""
      ]
     },
     "execution_count": 117,
     "metadata": {},
     "output_type": "execute_result"
    }
   ],
   "source": [
    "input = open(\"22_input.txt\") do f\n",
    "    readlines(f)\n",
    "end\n",
    "#p = Dict(1 => [parse(Int, l) for l in input[2:26]])\n",
    "#p[2] = [parse(Int, l) for l in input[29:53]]\n"
   ]
  },
  {
   "cell_type": "code",
   "execution_count": 73,
   "metadata": {},
   "outputs": [
    {
     "data": {
      "text/plain": [
       "5-element Array{Int64,1}:\n",
       "  5\n",
       "  8\n",
       "  4\n",
       "  7\n",
       " 10"
      ]
     },
     "execution_count": 73,
     "metadata": {},
     "output_type": "execute_result"
    }
   ],
   "source": [
    "p2"
   ]
  },
  {
   "cell_type": "code",
   "execution_count": 59,
   "metadata": {},
   "outputs": [],
   "source": [
    "while (length(p1) > 0) & (length(p2) > 0)\n",
    "    if p1[1] > p2[1]\n",
    "        p1 = circshift(p1, -1)\n",
    "        push!(p1, p2[1])\n",
    "        p2 = p2[2:end]\n",
    "    else\n",
    "        p2 = circshift(p2, -1)\n",
    "        push!(p2, p1[1])\n",
    "        p1 = p1[2:end]\n",
    "    end\n",
    "end"
   ]
  },
  {
   "cell_type": "code",
   "execution_count": 131,
   "metadata": {},
   "outputs": [
    {
     "data": {
      "text/plain": [
       "game (generic function with 2 methods)"
      ]
     },
     "execution_count": 131,
     "metadata": {},
     "output_type": "execute_result"
    }
   ],
   "source": [
    "function game(p1, p2)\n",
    "    vis1 = []\n",
    "    vis2 = []\n",
    "    while (length(p1) > 0) & (length(p2) > 0)\n",
    "        if (p1 ∈ vis1) | (p2 ∈ vis2)\n",
    "            return 1, p1\n",
    "        end\n",
    "        push!(vis1, p1)\n",
    "        push!(vis2, p2)\n",
    "        if (length(p1[2:end]) >= p1[1]) & (length(p2[2:end]) >= p2[1])\n",
    "            winner, hand = game(deepcopy(p1[2:(p1[1] + 1)]), deepcopy(p2[2:(p2[1] + 1)]))\n",
    "        else\n",
    "            winner = p1[1] > p2[1] ? 1 : 2\n",
    "        end\n",
    "        if winner == 1\n",
    "            p1 = circshift(p1, -1)\n",
    "            push!(p1, p2[1])\n",
    "            p2 = p2[2:end]\n",
    "        else\n",
    "            p2 = circshift(p2, -1)\n",
    "            push!(p2, p1[1])\n",
    "            p1 = p1[2:end]\n",
    "        end\n",
    "    end\n",
    "    if length(p1) == 0\n",
    "        return 2, p2\n",
    "    else\n",
    "        return 1, p1\n",
    "    end\n",
    "end"
   ]
  },
  {
   "cell_type": "code",
   "execution_count": 133,
   "metadata": {},
   "outputs": [
    {
     "data": {
      "text/plain": [
       "(1, [41, 23, 31, 4, 26, 5, 47, 40, 24, 13  …  33, 20, 44, 10, 37, 1, 43, 15, 34, 8])"
      ]
     },
     "execution_count": 133,
     "metadata": {},
     "output_type": "execute_result"
    }
   ],
   "source": [
    "p1 = [parse(Int, l) for l in input[2:26]]\n",
    "p2 = [parse(Int, l) for l in input[29:53]];\n",
    "winner, hand = game(p1, p2)"
   ]
  },
  {
   "cell_type": "code",
   "execution_count": 134,
   "metadata": {},
   "outputs": [
    {
     "data": {
      "text/plain": [
       "50-element Array{Int64,1}:\n",
       " 41\n",
       " 23\n",
       " 31\n",
       "  4\n",
       " 26\n",
       "  5\n",
       " 47\n",
       " 40\n",
       " 24\n",
       " 13\n",
       " 50\n",
       " 17\n",
       " 48\n",
       "  ⋮\n",
       " 21\n",
       "  2\n",
       " 33\n",
       " 20\n",
       " 44\n",
       " 10\n",
       " 37\n",
       "  1\n",
       " 43\n",
       " 15\n",
       " 34\n",
       "  8"
      ]
     },
     "execution_count": 134,
     "metadata": {},
     "output_type": "execute_result"
    }
   ],
   "source": [
    "hand"
   ]
  },
  {
   "cell_type": "code",
   "execution_count": 135,
   "metadata": {},
   "outputs": [
    {
     "data": {
      "text/plain": [
       "34424"
      ]
     },
     "execution_count": 135,
     "metadata": {},
     "output_type": "execute_result"
    }
   ],
   "source": [
    "sum([m*n for (m,n) in enumerate(reverse(hand))])"
   ]
  },
  {
   "cell_type": "code",
   "execution_count": null,
   "metadata": {},
   "outputs": [],
   "source": []
  }
 ],
 "metadata": {
  "kernelspec": {
   "display_name": "Julia 1.5.2",
   "language": "julia",
   "name": "julia-1.5"
  },
  "language_info": {
   "file_extension": ".jl",
   "mimetype": "application/julia",
   "name": "julia",
   "version": "1.5.2"
  }
 },
 "nbformat": 4,
 "nbformat_minor": 4
}
