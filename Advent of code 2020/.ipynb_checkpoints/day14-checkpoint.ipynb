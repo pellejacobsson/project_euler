{
 "cells": [
  {
   "cell_type": "code",
   "execution_count": 84,
   "metadata": {},
   "outputs": [],
   "source": [
    "using Combinatorics"
   ]
  },
  {
   "cell_type": "code",
   "execution_count": 1,
   "metadata": {},
   "outputs": [
    {
     "data": {
      "text/plain": [
       "577-element Array{String,1}:\n",
       " \"mask = 0101XX01X00X1X1011X1X000000101X10001\"\n",
       " \"mem[7625] = 333450\"\n",
       " \"mem[24015] = 49860\"\n",
       " \"mem[42377] = 14966\"\n",
       " \"mem[17961] = 3341\"\n",
       " \"mem[37065] = 2066541\"\n",
       " \"mask = 111101XX101X1110110101X01X101X100X0X\"\n",
       " \"mem[17330] = 176272\"\n",
       " \"mem[20250] = 11696927\"\n",
       " \"mem[28122] = 103\"\n",
       " \"mem[23322] = 1224\"\n",
       " \"mem[20521] = 306265426\"\n",
       " \"mem[56993] = 5315703\"\n",
       " ⋮\n",
       " \"mem[31684] = 13133132\"\n",
       " \"mem[16545] = 2489415\"\n",
       " \"mem[39483] = 1048235210\"\n",
       " \"mask = 01X1X1X1101X11X011X1010001X101110010\"\n",
       " \"mem[53092] = 3823\"\n",
       " \"mem[47384] = 4573\"\n",
       " \"mem[50275] = 284570347\"\n",
       " \"mem[1129] = 28366135\"\n",
       " \"mask = 1X110101X01110111X010X0000000X0XX001\"\n",
       " \"mem[22024] = 945785\"\n",
       " \"mem[55321] = 56363\"\n",
       " \"mem[28412] = 3465\""
      ]
     },
     "execution_count": 1,
     "metadata": {},
     "output_type": "execute_result"
    }
   ],
   "source": [
    "init = open(\"14_input.txt\") do f\n",
    "    readlines(f)\n",
    "end"
   ]
  },
  {
   "cell_type": "code",
   "execution_count": 191,
   "metadata": {},
   "outputs": [
    {
     "data": {
      "text/plain": [
       "xperm (generic function with 1 method)"
      ]
     },
     "execution_count": 191,
     "metadata": {},
     "output_type": "execute_result"
    }
   ],
   "source": [
    "function bintodec(d)\n",
    "    return sum([2^n*m for (n, m) in zip(0:(length(d)-1), d)])\n",
    "end\n",
    "\n",
    "function dectobin(n)\n",
    "    return digits(n, base = 2, pad = 36)\n",
    "end\n",
    "\n",
    "function applymask(val, mask)\n",
    "    bval = dectobin(val)\n",
    "    d = [m ∈ ['0', '1'] ? v = parse(Int, m) : v for (m, v) in zip(reverse(mask), bval)]\n",
    "    return bintodec(d)\n",
    "end\n",
    "\n",
    "function applymask2(val, mask)\n",
    "    bval = dectobin(val)\n",
    "    sbval = join([string(n) for n in dectobin(val)])\n",
    "    d = [m ∈ ['X', '1'] ? v = m : v for (m, v) in zip(reverse(mask), sbval)]\n",
    "    return d\n",
    "end\n",
    "\n",
    "function ismask(line)\n",
    "    rexp = r\"mask = ([0,1,X]{36})\"\n",
    "    im = occursin(rexp, line)\n",
    "    if !im\n",
    "        return false, \"\"\n",
    "    else\n",
    "        m = match(rexp, line)\n",
    "        return true, m.captures[1]\n",
    "    end\n",
    "end\n",
    "\n",
    "function getmem(line)\n",
    "    rexp = r\"mem\\[([0-9]*)\\] = ([0-9]*)\"\n",
    "    m = match(rexp, line)\n",
    "    return [parse(Int, n) for n in m.captures]\n",
    "end\n",
    "\n",
    "function xperm(bval)\n",
    "    n = sum(bval .== 'X')\n",
    "    xv = []\n",
    "    for r in digits.(0:2^n-1, base = 2, pad = n)\n",
    "        xl = deepcopy(bval)\n",
    "        xl[xl .== 'X'] = [string(s)[1] for s in r]\n",
    "        xl = [parse(Int, x) for x in xl]\n",
    "        xld = bintodec(xl)\n",
    "        push!(xv, xld)\n",
    "    end\n",
    "    return xv\n",
    "end"
   ]
  },
  {
   "cell_type": "code",
   "execution_count": 61,
   "metadata": {},
   "outputs": [],
   "source": [
    "cmask = \"\"\n",
    "pos = 0\n",
    "val = 0\n",
    "mem = Dict()\n",
    "for line in init\n",
    "    ism, mask = ismask(line)\n",
    "    if ism\n",
    "        cmask = mask\n",
    "    else\n",
    "        pos, val = getmem(line)\n",
    "        nval = applymask(val, cmask)\n",
    "        mem[pos] = nval\n",
    "    end\n",
    "end"
   ]
  },
  {
   "cell_type": "code",
   "execution_count": 64,
   "metadata": {},
   "outputs": [
    {
     "data": {
      "text/plain": [
       "18630548206046"
      ]
     },
     "execution_count": 64,
     "metadata": {},
     "output_type": "execute_result"
    }
   ],
   "source": [
    "sum([v for (k, v) in mem])"
   ]
  },
  {
   "cell_type": "code",
   "execution_count": 193,
   "metadata": {},
   "outputs": [],
   "source": [
    "cmask = \"\"\n",
    "pos = 0\n",
    "val = 0\n",
    "mem = Dict()\n",
    "for line in init\n",
    "    ism, mask = ismask(line)\n",
    "    if ism\n",
    "        cmask = mask\n",
    "    else\n",
    "        pos, val = getmem(line)\n",
    "        npos = xperm(applymask2(pos, cmask))\n",
    "        for p in npos\n",
    "            mem[p] = val\n",
    "        end\n",
    "    end\n",
    "end"
   ]
  },
  {
   "cell_type": "code",
   "execution_count": 195,
   "metadata": {},
   "outputs": [
    {
     "data": {
      "text/plain": [
       "4254673508445"
      ]
     },
     "execution_count": 195,
     "metadata": {},
     "output_type": "execute_result"
    }
   ],
   "source": [
    "sum([v for (k, v) in mem])"
   ]
  },
  {
   "cell_type": "code",
   "execution_count": null,
   "metadata": {},
   "outputs": [],
   "source": []
  }
 ],
 "metadata": {
  "kernelspec": {
   "display_name": "Julia 1.5.2",
   "language": "julia",
   "name": "julia-1.5"
  },
  "language_info": {
   "file_extension": ".jl",
   "mimetype": "application/julia",
   "name": "julia",
   "version": "1.5.2"
  }
 },
 "nbformat": 4,
 "nbformat_minor": 4
}
