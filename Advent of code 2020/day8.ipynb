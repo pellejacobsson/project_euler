{
 "cells": [
  {
   "cell_type": "code",
   "execution_count": 1,
   "metadata": {},
   "outputs": [
    {
     "data": {
      "text/plain": [
       "611-element Array{String,1}:\n",
       " \"jmp +265\"\n",
       " \"jmp +326\"\n",
       " \"acc +41\"\n",
       " \"acc +21\"\n",
       " \"nop +255\"\n",
       " \"jmp +104\"\n",
       " \"jmp +563\"\n",
       " \"jmp +568\"\n",
       " \"acc -12\"\n",
       " \"acc -7\"\n",
       " \"jmp +9\"\n",
       " \"jmp +3\"\n",
       " \"acc -8\"\n",
       " ⋮\n",
       " \"acc +3\"\n",
       " \"jmp -576\"\n",
       " \"acc +22\"\n",
       " \"nop -420\"\n",
       " \"acc +36\"\n",
       " \"acc +33\"\n",
       " \"jmp -372\"\n",
       " \"nop -551\"\n",
       " \"acc +27\"\n",
       " \"nop -567\"\n",
       " \"nop -554\"\n",
       " \"jmp +1\""
      ]
     },
     "execution_count": 1,
     "metadata": {},
     "output_type": "execute_result"
    }
   ],
   "source": [
    "ins = open(\"8_input.txt\") do f\n",
    "    readlines(f)\n",
    "end"
   ]
  },
  {
   "cell_type": "code",
   "execution_count": 10,
   "metadata": {},
   "outputs": [],
   "source": [
    "cmd = []\n",
    "val = []\n",
    "for line in split.(ins)\n",
    "    push!(cmd, line[1])\n",
    "    push!(val, parse(Int, line[2]))\n",
    "end"
   ]
  },
  {
   "cell_type": "code",
   "execution_count": 17,
   "metadata": {},
   "outputs": [
    {
     "data": {
      "text/plain": [
       "1941"
      ]
     },
     "execution_count": 17,
     "metadata": {},
     "output_type": "execute_result"
    }
   ],
   "source": [
    "acc"
   ]
  },
  {
   "cell_type": "code",
   "execution_count": 22,
   "metadata": {},
   "outputs": [
    {
     "data": {
      "text/plain": [
       "doesterminate (generic function with 1 method)"
      ]
     },
     "execution_count": 22,
     "metadata": {},
     "output_type": "execute_result"
    }
   ],
   "source": [
    "function doesterminate(cmd, val)\n",
    "    visited = falses(length(cmd))\n",
    "    acc = 0\n",
    "    i = 1\n",
    "    while !visited[i]\n",
    "        visited[i] = true\n",
    "        if cmd[i] == \"acc\"\n",
    "            acc += val[i]\n",
    "            i += 1\n",
    "        elseif cmd[i] == \"jmp\"\n",
    "            i += val[i]\n",
    "        else\n",
    "            i += 1\n",
    "        end\n",
    "        if i == length(cmd)\n",
    "            return true, acc\n",
    "        end\n",
    "    end\n",
    "    return false, acc\n",
    "end"
   ]
  },
  {
   "cell_type": "code",
   "execution_count": 23,
   "metadata": {},
   "outputs": [
    {
     "data": {
      "text/plain": [
       "(false, 1941)"
      ]
     },
     "execution_count": 23,
     "metadata": {},
     "output_type": "execute_result"
    }
   ],
   "source": [
    "doesterminate(cmd, val)"
   ]
  },
  {
   "cell_type": "code",
   "execution_count": 25,
   "metadata": {},
   "outputs": [
    {
     "name": "stdout",
     "output_type": "stream",
     "text": [
      "Terminates with acc = 2096"
     ]
    }
   ],
   "source": [
    "for j in (1:length(cmd))[cmd .== \"jmp\"]\n",
    "    cmdn = deepcopy(cmd)\n",
    "    cmdn[j] = \"nop\"\n",
    "    term, acc = doesterminate(cmdn, val)\n",
    "    if term\n",
    "        print(\"Terminates with acc = $acc\")\n",
    "    end\n",
    "end"
   ]
  },
  {
   "cell_type": "code",
   "execution_count": null,
   "metadata": {},
   "outputs": [],
   "source": []
  }
 ],
 "metadata": {
  "kernelspec": {
   "display_name": "Julia 1.5.2",
   "language": "julia",
   "name": "julia-1.5"
  },
  "language_info": {
   "file_extension": ".jl",
   "mimetype": "application/julia",
   "name": "julia",
   "version": "1.5.2"
  }
 },
 "nbformat": 4,
 "nbformat_minor": 4
}
