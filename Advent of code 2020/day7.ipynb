{
 "cells": [
  {
   "cell_type": "code",
   "execution_count": 164,
   "metadata": {},
   "outputs": [
    {
     "data": {
      "text/plain": [
       "594-element Array{SubString{String},1}:\n",
       " \"light green bags contain 2 pale cyan bags.\"\n",
       " \"dim tan bags contain 3 shiny teal bags, 5 bright white bags, 4 striped bronze bags.\"\n",
       " \"dotted magenta bags contain 2 faded cyan bags, 4 bright yellow bags.\"\n",
       " \"dull silver bags contain 3 striped green bags.\"\n",
       " \"posh purple bags contain 2 mirrored lavender bags, 4 light chartreuse bags, 3 shiny green bags.\"\n",
       " \"vibrant black bags contain 2 faded lavender bags, 4 shiny plum bags.\"\n",
       " \"posh fuchsia bags contain 1 striped coral bag, 2 wavy gray bags, 3 posh white bags, 1 mirrored coral bag.\"\n",
       " \"wavy magenta bags contain 2 light salmon bags.\"\n",
       " \"shiny purple bags contain 3 vibrant white bags.\"\n",
       " \"wavy chartreuse bags contain 3 striped purple bags, 3 vibrant blue bags, 2 mirrored fuchsia bags, 2 muted indigo bags.\"\n",
       " \"vibrant cyan bags contain 4 posh teal bags, 1 dull aqua bag.\"\n",
       " \"light plum bags contain 1 dotted blue bag, 2 clear yellow bags, 2 dark indigo bags.\"\n",
       " \"mirrored chartreuse bags contain 4 dull plum bags, 4 light bronze bags, 2 dim red bags, 2 wavy silver bags.\"\n",
       " ⋮\n",
       " \"mirrored tomato bags contain 5 light turquoise bags, 1 faded gold bag.\"\n",
       " \"posh magenta bags contain 5 dotted silver bags.\"\n",
       " \"posh chartreuse bags contain 5 dim yellow bags.\"\n",
       " \"dotted black bags contain 3 mirrored turquoise bags.\"\n",
       " \"plaid indigo bags contain 3 mirrored fuchsia bags, 5 wavy yellow bags, 2 plaid silver bags, 3 vibrant blue bags.\"\n",
       " \"drab coral bags contain 4 wavy indigo bags, 3 clear salmon bags, 4 muted teal bags.\"\n",
       " \"plaid orange bags contain 2 dotted plum bags.\"\n",
       " \"light orange bags contain 4 light tomato bags, 4 vibrant blue bags, 3 light coral bags.\"\n",
       " \"striped maroon bags contain 3 dark brown bags, 1 light silver bag.\"\n",
       " \"striped cyan bags contain 4 muted orange bags, 1 light silver bag, 2 pale gold bags, 4 shiny plum bags.\"\n",
       " \"posh violet bags contain 2 dark violet bags, 4 striped olive bags, 1 pale silver bag.\"\n",
       " \"striped lime bags contain 4 dim orange bags.\""
      ]
     },
     "execution_count": 164,
     "metadata": {},
     "output_type": "execute_result"
    }
   ],
   "source": [
    "rules = open(\"7_input.txt\") do f\n",
    "    split(read(f, String), \"\\n\")\n",
    "end\n",
    "rules = rules[1:end-1]"
   ]
  },
  {
   "cell_type": "code",
   "execution_count": 165,
   "metadata": {},
   "outputs": [],
   "source": [
    "struct Sbag\n",
    "    n::Int\n",
    "    name::String\n",
    "end"
   ]
  },
  {
   "cell_type": "code",
   "execution_count": 166,
   "metadata": {},
   "outputs": [],
   "source": [
    "rexp1 = r\"(.*) bags contain .*\"\n",
    "rexp2 = r\".* ([1-9]*) (.*) bags?.*\"\n",
    "rdict = Dict()\n",
    "for rule in rules\n",
    "    m1 = match(rexp1, rule)\n",
    "    key = m1.captures[1]\n",
    "    rlist = []\n",
    "    for b in split(rule, \",\")\n",
    "        m2 = match(rexp2, b)\n",
    "        if !(m2 == nothing)\n",
    "            push!(rlist, Sbag(parse(Int, m2.captures[1]), m2.captures[2]))\n",
    "        end\n",
    "    end\n",
    "    rdict[key] = rlist\n",
    "end"
   ]
  },
  {
   "cell_type": "code",
   "execution_count": 167,
   "metadata": {},
   "outputs": [
    {
     "data": {
      "text/plain": [
       "countbags2 (generic function with 1 method)"
      ]
     },
     "execution_count": 167,
     "metadata": {},
     "output_type": "execute_result"
    }
   ],
   "source": [
    "function countbags(bag, mybag)\n",
    "    if length(rdict[bag]) == 0 \n",
    "        return 0\n",
    "    elseif mybag in [b.name for b in rdict[bag]]\n",
    "        return 1\n",
    "    else\n",
    "        return maximum([countbags(bbag.name, mybag) for bbag in rdict[bag]])\n",
    "    end\n",
    "end\n",
    "\n",
    "function countbags2(mybag)\n",
    "    if length(rdict[mybag]) == 0\n",
    "        return 0\n",
    "    else\n",
    "        s = 0\n",
    "        for bag in rdict[mybag]\n",
    "            s += bag.n + bag.n * countbags2(bag.name)\n",
    "        end\n",
    "        return s\n",
    "    end\n",
    "end"
   ]
  },
  {
   "cell_type": "code",
   "execution_count": 168,
   "metadata": {},
   "outputs": [
    {
     "data": {
      "text/plain": [
       "Dict{Any,Any} with 594 entries:\n",
       "  \"posh teal\"           => Any[Sbag(5, \"striped green\"), Sbag(3, \"posh purple\")…\n",
       "  \"clear teal\"          => Any[Sbag(1, \"bright beige\"), Sbag(3, \"dark green\"), …\n",
       "  \"faded tomato\"        => Any[Sbag(2, \"dim aqua\"), Sbag(2, \"faded yellow\")]\n",
       "  \"dull indigo\"         => Any[Sbag(2, \"posh beige\")]\n",
       "  \"drab indigo\"         => Any[Sbag(4, \"muted lime\"), Sbag(1, \"plaid olive\"), S…\n",
       "  \"mirrored chartreuse\" => Any[Sbag(4, \"dull plum\"), Sbag(4, \"light bronze\"), S…\n",
       "  \"shiny lime\"          => Any[Sbag(2, \"pale plum\"), Sbag(4, \"dim maroon\"), Sba…\n",
       "  \"dark brown\"          => Any[Sbag(2, \"dull lavender\"), Sbag(4, \"faded lavende…\n",
       "  \"dotted fuchsia\"      => Any[Sbag(5, \"clear beige\"), Sbag(3, \"shiny blue\"), S…\n",
       "  \"shiny green\"         => Any[]\n",
       "  \"posh gray\"           => Any[Sbag(4, \"muted tomato\"), Sbag(1, \"bright black\")…\n",
       "  \"mirrored violet\"     => Any[Sbag(2, \"shiny violet\"), Sbag(1, \"plaid purple\")…\n",
       "  \"bright brown\"        => Any[Sbag(3, \"wavy teal\"), Sbag(3, \"light beige\"), Sb…\n",
       "  \"drab cyan\"           => Any[Sbag(2, \"muted black\"), Sbag(1, \"clear cyan\"), S…\n",
       "  \"posh brown\"          => Any[Sbag(3, \"bright maroon\"), Sbag(2, \"pale purple\")]\n",
       "  \"dim aqua\"            => Any[Sbag(1, \"posh coral\")]\n",
       "  \"vibrant violet\"      => Any[Sbag(1, \"muted red\")]\n",
       "  \"light lime\"          => Any[Sbag(2, \"pale crimson\"), Sbag(5, \"mirrored red\")]\n",
       "  \"shiny silver\"        => Any[Sbag(5, \"striped chartreuse\"), Sbag(5, \"plaid br…\n",
       "  \"vibrant silver\"      => Any[Sbag(2, \"dim chartreuse\"), Sbag(1, \"plaid brown\"…\n",
       "  \"muted olive\"         => Any[Sbag(2, \"dotted coral\"), Sbag(5, \"dull olive\"), …\n",
       "  \"dotted bronze\"       => Any[Sbag(1, \"dotted blue\"), Sbag(1, \"plaid chartreus…\n",
       "  \"wavy aqua\"           => Any[Sbag(1, \"dull aqua\")]\n",
       "  \"vibrant bronze\"      => Any[Sbag(4, \"striped lime\"), Sbag(1, \"posh fuchsia\")…\n",
       "  \"wavy beige\"          => Any[Sbag(2, \"dark silver\"), Sbag(4, \"muted gray\")]\n",
       "  ⋮                     => ⋮"
      ]
     },
     "execution_count": 168,
     "metadata": {},
     "output_type": "execute_result"
    }
   ],
   "source": [
    "rdict"
   ]
  },
  {
   "cell_type": "code",
   "execution_count": 169,
   "metadata": {},
   "outputs": [],
   "source": [
    "count = 0\n",
    "for bag in keys(rdict)\n",
    "    count += countbags(bag, \"shiny gold\")\n",
    "end"
   ]
  },
  {
   "cell_type": "code",
   "execution_count": 170,
   "metadata": {},
   "outputs": [
    {
     "data": {
      "text/plain": [
       "226"
      ]
     },
     "execution_count": 170,
     "metadata": {},
     "output_type": "execute_result"
    }
   ],
   "source": [
    "count"
   ]
  },
  {
   "cell_type": "code",
   "execution_count": 171,
   "metadata": {},
   "outputs": [
    {
     "data": {
      "text/plain": [
       "9569"
      ]
     },
     "execution_count": 171,
     "metadata": {},
     "output_type": "execute_result"
    }
   ],
   "source": [
    "countbags2(\"shiny gold\")"
   ]
  },
  {
   "cell_type": "code",
   "execution_count": null,
   "metadata": {},
   "outputs": [],
   "source": []
  }
 ],
 "metadata": {
  "kernelspec": {
   "display_name": "Julia 1.5.2",
   "language": "julia",
   "name": "julia-1.5"
  },
  "language_info": {
   "file_extension": ".jl",
   "mimetype": "application/julia",
   "name": "julia",
   "version": "1.5.2"
  }
 },
 "nbformat": 4,
 "nbformat_minor": 4
}
