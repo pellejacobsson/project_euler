{
 "cells": [
  {
   "cell_type": "code",
   "execution_count": 1,
   "metadata": {},
   "outputs": [
    {
     "data": {
      "text/plain": [
       "1728-element Array{String,1}:\n",
       " \"Tile 1559:\"\n",
       " \".......#.#\"\n",
       " \"#.#.......\"\n",
       " \"#.#.......\"\n",
       " \"#.#.......\"\n",
       " \"..........\"\n",
       " \"#.#..#..#.\"\n",
       " \"...##..#.#\"\n",
       " \"..........\"\n",
       " \"#.#....##.\"\n",
       " \"..##......\"\n",
       " \"\"\n",
       " \"Tile 3253:\"\n",
       " ⋮\n",
       " \"Tile 2833:\"\n",
       " \".#.#...###\"\n",
       " \"......#..#\"\n",
       " \"#..####..#\"\n",
       " \".........#\"\n",
       " \"....#....#\"\n",
       " \"#...#...#.\"\n",
       " \"##....#.##\"\n",
       " \"#...###..#\"\n",
       " \"#..#......\"\n",
       " \"...#.#..##\"\n",
       " \"\""
      ]
     },
     "execution_count": 1,
     "metadata": {},
     "output_type": "execute_result"
    }
   ],
   "source": [
    "tiles = open(\"20_input.txt\") do f\n",
    "    readlines(f)\n",
    "end"
   ]
  },
  {
   "cell_type": "code",
   "execution_count": 46,
   "metadata": {},
   "outputs": [],
   "source": [
    "d = Dict()\n",
    "for i = 1:12:length(tiles)\n",
    "    tsplit = [split(x, \"\") for x in tiles[i+1:i+10][1:10]]\n",
    "    d[parse(Int, tiles[i][6:end-1])] = [tsplit[m][n] == \"#\" for m = 1:10, n = 1:10]\n",
    "end"
   ]
  },
  {
   "cell_type": "code",
   "execution_count": 11,
   "metadata": {},
   "outputs": [
    {
     "data": {
      "text/plain": [
       "144"
      ]
     },
     "execution_count": 11,
     "metadata": {},
     "output_type": "execute_result"
    }
   ],
   "source": [
    "length(d)"
   ]
  },
  {
   "cell_type": "code",
   "execution_count": 2,
   "metadata": {},
   "outputs": [
    {
     "data": {
      "text/plain": [
       "isbelow (generic function with 1 method)"
      ]
     },
     "execution_count": 2,
     "metadata": {},
     "output_type": "execute_result"
    }
   ],
   "source": [
    "flipud(m) = reverse(m, dims = 1)\n",
    "fliplr(m) = reverse(m, dims = 2)\n",
    "rot180(m) = reverse(reverse(m, dims = 1), dims = 2)\n",
    "rotr(m) = reverse(transpose(m), dims = 2)\n",
    "rotl(m) = reverse(transpose(m), dims = 1)\n",
    "antitranspose(m) = rot180(transpose(m))\n",
    "donothing(m) = m\n",
    "\n",
    "isabove(m1, m2) = all(m1[1,:] .== m2[10,:])\n",
    "isright(m1, m2) = all(m1[:,10] .== m2[:,1])\n",
    "isleft(m1, m2) = all(m1[:,1] .== m2[:,10])\n",
    "isbelow(m1, m2) = all(m1[10,:] .== m2[1,:])"
   ]
  },
  {
   "cell_type": "code",
   "execution_count": 5,
   "metadata": {},
   "outputs": [
    {
     "data": {
      "text/plain": [
       "4-element Array{Function,1}:\n",
       " isabove (generic function with 1 method)\n",
       " isbelow (generic function with 1 method)\n",
       " isright (generic function with 1 method)\n",
       " isleft (generic function with 1 method)"
      ]
     },
     "execution_count": 5,
     "metadata": {},
     "output_type": "execute_result"
    }
   ],
   "source": [
    "transf = [flipud, fliplr, rot180, rotr, rotl, antitranspose, donothing, transpose]\n",
    "checkf = [isabove, isbelow, isright, isleft]"
   ]
  },
  {
   "cell_type": "code",
   "execution_count": 14,
   "metadata": {},
   "outputs": [],
   "source": [
    "neighbors = Dict()\n",
    "for (id1, m1) in d\n",
    "    n = 0\n",
    "    for (id2, m2) in d\n",
    "        if id2 == id1\n",
    "            continue\n",
    "        end\n",
    "        for f in transf\n",
    "            for g in checkf\n",
    "                if g(m1, f(m2))\n",
    "                    n += 1\n",
    "                end\n",
    "            end\n",
    "        end\n",
    "    end\n",
    "    neighbors[id1] = n\n",
    "end"
   ]
  },
  {
   "cell_type": "code",
   "execution_count": 15,
   "metadata": {},
   "outputs": [
    {
     "data": {
      "text/plain": [
       "Dict{Any,Any} with 144 entries:\n",
       "  2113 => 4\n",
       "  1097 => 4\n",
       "  2843 => 3\n",
       "  2999 => 4\n",
       "  3407 => 4\n",
       "  1861 => 3\n",
       "  3659 => 4\n",
       "  2677 => 4\n",
       "  1237 => 4\n",
       "  3517 => 4\n",
       "  3767 => 4\n",
       "  1933 => 4\n",
       "  1741 => 4\n",
       "  3229 => 4\n",
       "  2099 => 4\n",
       "  1889 => 4\n",
       "  3559 => 4\n",
       "  2423 => 3\n",
       "  3011 => 4\n",
       "  2239 => 2\n",
       "  2179 => 3\n",
       "  2659 => 3\n",
       "  3709 => 4\n",
       "  3413 => 4\n",
       "  2297 => 3\n",
       "  ⋮    => ⋮"
      ]
     },
     "execution_count": 15,
     "metadata": {},
     "output_type": "execute_result"
    }
   ],
   "source": [
    "neighbors"
   ]
  },
  {
   "cell_type": "code",
   "execution_count": 19,
   "metadata": {},
   "outputs": [],
   "source": [
    "s = 1\n",
    "for (key, val) in neighbors\n",
    "    if val == 2\n",
    "        s *= key\n",
    "    end\n",
    "end"
   ]
  },
  {
   "cell_type": "code",
   "execution_count": 20,
   "metadata": {},
   "outputs": [
    {
     "data": {
      "text/plain": [
       "68781323018729"
      ]
     },
     "execution_count": 20,
     "metadata": {},
     "output_type": "execute_result"
    }
   ],
   "source": [
    "s"
   ]
  },
  {
   "cell_type": "code",
   "execution_count": 21,
   "metadata": {},
   "outputs": [
    {
     "name": "stdout",
     "output_type": "stream",
     "text": [
      "2239\n",
      "2503\n",
      "3851\n",
      "3187\n"
     ]
    }
   ],
   "source": [
    "for (key, val) in neighbors\n",
    "    if val == 2\n",
    "        println(key)\n",
    "    end\n",
    "end"
   ]
  },
  {
   "cell_type": "code",
   "execution_count": 36,
   "metadata": {},
   "outputs": [
    {
     "name": "stdout",
     "output_type": "stream",
     "text": [
      "isright\n",
      "isbelow\n"
     ]
    }
   ],
   "source": [
    "id1 = 3851\n",
    "m1 = d[id1]\n",
    "for (id2, m2) in d\n",
    "    if id2 == id1\n",
    "        continue\n",
    "    end\n",
    "    for f in transf\n",
    "        for g in checkf\n",
    "            if g(m1, f(m2))\n",
    "                println(g)\n",
    "            end\n",
    "        end\n",
    "    end\n",
    "end"
   ]
  },
  {
   "cell_type": "code",
   "execution_count": 3,
   "metadata": {},
   "outputs": [],
   "source": [
    "d = Dict()\n",
    "for i = 1:12:length(tiles)\n",
    "    tsplit = [split(x, \"\") for x in tiles[i+1:i+10][1:10]]\n",
    "    d[parse(Int, tiles[i][6:end-1])] = [tsplit[m][n] == \"#\" for m = 1:10, n = 1:10]\n",
    "end"
   ]
  },
  {
   "cell_type": "code",
   "execution_count": 6,
   "metadata": {},
   "outputs": [],
   "source": [
    "image = Dict()\n",
    "left = collect(keys(d))\n",
    "for i = 1:12\n",
    "    for j = 1:12\n",
    "        if i == 1\n",
    "            if j == 1\n",
    "                image[(i, j)] = 3851\n",
    "                filter!(x -> x ≠ 3851, left)\n",
    "            else\n",
    "                ml = d[image[(i, j-1)]]\n",
    "                for key in left\n",
    "                    for f in transf\n",
    "                        if isright(ml, f(d[key]))\n",
    "                            d[key] = f(d[key])\n",
    "                            image[(i, j)] = key\n",
    "                            filter!(x -> x ≠ key, left)\n",
    "                        end\n",
    "                    end\n",
    "                end\n",
    "            end\n",
    "        else\n",
    "            mu = d[image[(i-1, j)]]\n",
    "            if j == 1\n",
    "                for key in left\n",
    "                    for f in transf\n",
    "                        if isbelow(mu, f(d[key]))\n",
    "                            d[key] = f(d[key])\n",
    "                            image[(i, j)] = key\n",
    "                            filter!(x -> x ≠ key, left)\n",
    "                        end\n",
    "                    end\n",
    "                end\n",
    "            else\n",
    "                ml = d[image[(i, j-1)]]\n",
    "                for key in left\n",
    "                    for f in transf\n",
    "                        if isbelow(mu, f(d[key])) & isright(ml, f(d[key]))\n",
    "                            d[key] = f(d[key])\n",
    "                            image[(i, j)] = key\n",
    "                            filter!(x -> x ≠ key, left)\n",
    "                        end\n",
    "                    end\n",
    "                end\n",
    "            end\n",
    "        end\n",
    "    end\n",
    "end"
   ]
  },
  {
   "cell_type": "code",
   "execution_count": 7,
   "metadata": {},
   "outputs": [
    {
     "data": {
      "text/plain": [
       "Dict{Any,Any} with 144 entries:\n",
       "  (8, 10)  => 2267\n",
       "  (9, 5)   => 2137\n",
       "  (3, 6)   => 1223\n",
       "  (10, 5)  => 2789\n",
       "  (6, 9)   => 2207\n",
       "  (12, 4)  => 3643\n",
       "  (4, 4)   => 1543\n",
       "  (9, 4)   => 1181\n",
       "  (10, 11) => 3191\n",
       "  (8, 9)   => 1583\n",
       "  (9, 1)   => 3533\n",
       "  (11, 1)  => 2251\n",
       "  (8, 11)  => 3659\n",
       "  (3, 1)   => 2011\n",
       "  (1, 10)  => 3391\n",
       "  (1, 12)  => 2503\n",
       "  (12, 7)  => 2423\n",
       "  (4, 5)   => 2999\n",
       "  (9, 9)   => 2417\n",
       "  (11, 8)  => 2689\n",
       "  (12, 8)  => 2767\n",
       "  (2, 4)   => 3083\n",
       "  (6, 5)   => 3767\n",
       "  (4, 9)   => 3877\n",
       "  (8, 4)   => 2089\n",
       "  ⋮        => ⋮"
      ]
     },
     "execution_count": 7,
     "metadata": {},
     "output_type": "execute_result"
    }
   ],
   "source": [
    "image"
   ]
  },
  {
   "cell_type": "code",
   "execution_count": 8,
   "metadata": {},
   "outputs": [],
   "source": [
    "photo = falses(96, 96)\n",
    "for (key, val) in image\n",
    "    i, j = key\n",
    "    i = 1 + (i - 1) * 8\n",
    "    j = 1 + (j - 1) * 8\n",
    "    m = d[val]\n",
    "    photo[i:i+7, j:j+7] = m[2:9, 2:9]\n",
    "end"
   ]
  },
  {
   "cell_type": "code",
   "execution_count": 11,
   "metadata": {},
   "outputs": [
    {
     "data": {
      "text/plain": [
       "8-element Array{Function,1}:\n",
       " flipud (generic function with 1 method)\n",
       " fliplr (generic function with 1 method)\n",
       " rot180 (generic function with 1 method)\n",
       " rotr (generic function with 1 method)\n",
       " rotl (generic function with 1 method)\n",
       " antitranspose (generic function with 1 method)\n",
       " donothing (generic function with 1 method)\n",
       " transpose (generic function with 28 methods)"
      ]
     },
     "execution_count": 11,
     "metadata": {},
     "output_type": "execute_result"
    }
   ],
   "source": [
    "transf"
   ]
  },
  {
   "cell_type": "code",
   "execution_count": 19,
   "metadata": {},
   "outputs": [
    {
     "data": {
      "text/plain": [
       "96×96 LinearAlgebra.Transpose{Bool,BitArray{2}}:\n",
       " 0  0  0  1  0  0  0  0  0  0  0  0  0  …  0  0  0  0  0  0  0  0  0  0  0  0\n",
       " 1  0  0  0  0  0  1  0  0  0  1  1  1     0  0  0  0  0  0  0  0  0  1  0  0\n",
       " 0  0  0  1  0  1  1  0  0  0  0  0  0     0  0  0  0  0  0  1  0  0  0  0  1\n",
       " 0  1  0  1  0  1  0  0  0  0  0  1  0     0  1  0  0  1  0  0  0  0  0  0  0\n",
       " 0  0  0  1  0  0  0  0  0  0  0  1  0     1  0  0  1  1  1  1  1  0  0  0  0\n",
       " 0  0  0  0  0  0  0  0  1  0  0  0  0  …  0  0  1  1  0  0  1  0  0  1  0  0\n",
       " 0  0  0  0  0  1  0  0  0  0  0  1  1     1  0  0  0  0  1  0  1  0  0  0  0\n",
       " 0  0  0  0  0  0  0  0  0  0  1  0  0     1  0  0  0  0  0  1  0  0  0  0  0\n",
       " 1  0  1  0  0  0  0  0  0  0  0  1  0     1  1  0  0  0  0  0  0  0  0  0  0\n",
       " 1  0  0  0  0  0  0  1  1  0  0  1  0     0  0  0  0  0  1  0  1  0  0  1  0\n",
       " 0  0  0  0  0  0  0  0  1  0  0  0  0  …  1  1  0  0  0  0  1  1  0  0  0  0\n",
       " 0  0  0  0  0  0  0  0  0  0  1  0  0     1  0  0  0  0  0  0  0  0  0  0  0\n",
       " 0  0  0  0  0  0  0  1  0  1  1  0  0     0  0  0  0  0  0  0  0  1  1  0  0\n",
       " ⋮              ⋮              ⋮        ⋱     ⋮              ⋮              ⋮\n",
       " 0  0  0  0  0  0  0  0  0  0  1  0  1     0  0  0  0  0  0  0  0  1  0  1  0\n",
       " 0  0  0  1  0  1  0  0  0  0  1  0  0  …  0  0  0  0  0  0  0  0  0  0  0  1\n",
       " 0  0  0  0  0  0  1  0  1  0  0  0  0     0  0  0  0  0  0  0  0  0  0  0  0\n",
       " 0  0  0  0  0  1  0  1  0  0  0  1  1     1  0  1  1  0  0  0  1  0  1  0  0\n",
       " 0  0  0  1  0  0  0  0  0  0  0  0  1     0  0  0  1  1  1  0  1  0  1  0  1\n",
       " 0  0  1  0  0  0  0  0  1  0  0  0  0     0  0  0  0  1  1  0  0  0  0  0  0\n",
       " 1  0  0  0  0  0  0  0  1  1  0  0  1  …  0  0  0  0  0  1  0  0  0  0  1  1\n",
       " 0  0  0  0  0  0  0  0  0  0  0  1  0     0  0  0  0  0  1  1  0  0  1  0  0\n",
       " 1  0  0  0  0  0  0  1  0  0  0  0  0     0  0  1  0  0  1  0  1  0  1  1  0\n",
       " 0  1  0  0  0  0  1  1  0  1  0  0  0     0  0  0  0  0  0  0  0  0  0  1  0\n",
       " 0  0  1  0  0  0  1  1  0  0  0  0  0     0  0  0  1  1  0  1  0  0  0  0  0\n",
       " 0  0  0  0  0  0  0  0  1  0  0  0  0  …  0  0  0  0  0  1  1  0  0  1  0  0"
      ]
     },
     "execution_count": 19,
     "metadata": {},
     "output_type": "execute_result"
    }
   ],
   "source": [
    "transpose(photo)"
   ]
  },
  {
   "cell_type": "code",
   "execution_count": 41,
   "metadata": {},
   "outputs": [
    {
     "data": {
      "text/plain": [
       "monsteridx (generic function with 1 method)"
      ]
     },
     "execution_count": 41,
     "metadata": {},
     "output_type": "execute_result"
    }
   ],
   "source": [
    "function monsteridx(i, j)\n",
    "    return [(i, j), (i+1, j+1), (i+1, j+4), (i, j+5), (i, j+6), (i+1, j+7), (i+1, j+10), (i, j+11), (i, j+12), (i+1, j+13), (i+1, j+16),\n",
    "    (i, j+17), (i, j+18), (i, j+19), (i-1, j+18)]\n",
    "end"
   ]
  },
  {
   "cell_type": "code",
   "execution_count": null,
   "metadata": {},
   "outputs": [],
   "source": [
    ".#.#...#.###...#.##.O#..\n",
    "#.O.##.OO#.#.OO.##.OOO##\n",
    "..#O.#O#.O##O..O.#O##.##"
   ]
  },
  {
   "cell_type": "code",
   "execution_count": 44,
   "metadata": {},
   "outputs": [],
   "source": [
    "call = []\n",
    "for f in transf\n",
    "    c = 0\n",
    "    cphoto = f(photo)\n",
    "    for i = 2:95\n",
    "        for j = 1:77\n",
    "            if all([cphoto[idx[1], idx[2]] for idx in monsteridx(i, j)])\n",
    "                c += 1\n",
    "            end\n",
    "        end\n",
    "    end\n",
    "    push!(call, c)\n",
    "end"
   ]
  },
  {
   "cell_type": "code",
   "execution_count": 45,
   "metadata": {},
   "outputs": [
    {
     "data": {
      "text/plain": [
       "8-element Array{Any,1}:\n",
       "  0\n",
       "  0\n",
       "  0\n",
       "  0\n",
       " 19\n",
       "  0\n",
       "  0\n",
       "  0"
      ]
     },
     "execution_count": 45,
     "metadata": {},
     "output_type": "execute_result"
    }
   ],
   "source": [
    "call"
   ]
  },
  {
   "cell_type": "code",
   "execution_count": 48,
   "metadata": {},
   "outputs": [
    {
     "data": {
      "text/plain": [
       "1629"
      ]
     },
     "execution_count": 48,
     "metadata": {},
     "output_type": "execute_result"
    }
   ],
   "source": [
    "sum(photo)-19*15"
   ]
  },
  {
   "cell_type": "code",
   "execution_count": 47,
   "metadata": {},
   "outputs": [
    {
     "data": {
      "text/plain": [
       "15-element Array{Tuple{Int64,Int64},1}:\n",
       " (2, 1)\n",
       " (3, 2)\n",
       " (3, 5)\n",
       " (2, 6)\n",
       " (2, 7)\n",
       " (3, 8)\n",
       " (3, 11)\n",
       " (2, 12)\n",
       " (2, 13)\n",
       " (3, 14)\n",
       " (3, 17)\n",
       " (2, 18)\n",
       " (2, 19)\n",
       " (2, 20)\n",
       " (1, 19)"
      ]
     },
     "execution_count": 47,
     "metadata": {},
     "output_type": "execute_result"
    }
   ],
   "source": [
    "monsteridx(2,1)"
   ]
  },
  {
   "cell_type": "code",
   "execution_count": 24,
   "metadata": {},
   "outputs": [
    {
     "data": {
      "text/plain": [
       "24-element Array{String,1}:\n",
       " \".#.#..#.##...#.##..#####\"\n",
       " \"###....#.#....#..#......\"\n",
       " \"##.##.###.#.#..######...\"\n",
       " \"###.#####...#.#####.#..#\"\n",
       " \"##.#....#.##.####...#.##\"\n",
       " \"...########.#....#####.#\"\n",
       " \"....#..#...##..#.#.###..\"\n",
       " \".####...#..#.....#......\"\n",
       " \"#..#.##..#..###.#.##....\"\n",
       " \"#.####..#.####.#.#.###..\"\n",
       " \"###.#.#...#.######.#..##\"\n",
       " \"#.####....##..########.#\"\n",
       " \"##..##.#...#...#.#.#.#..\"\n",
       " \"...#..#..#.#.##..###.###\"\n",
       " \".#.#....#.##.#...###.##.\"\n",
       " \"###.#...#..#.##.######..\"\n",
       " \".#.#.###.##.##.#..#.##..\"\n",
       " \".####.###.#...###.#..#.#\"\n",
       " \"..#.#..#..#.#.#.####.###\"\n",
       " \"#..####...#.#.#.###.###.\"\n",
       " \"#####..#####...###....##\"\n",
       " \"#.##..#..#...#..####...#\"\n",
       " \".#.###..##..##..####.##.\"\n",
       " \"...###...##...#...#..###\""
      ]
     },
     "execution_count": 24,
     "metadata": {},
     "output_type": "execute_result"
    }
   ],
   "source": [
    "test = open(\"20_testinput2.txt\") do f\n",
    "    readlines(f)\n",
    "end"
   ]
  },
  {
   "cell_type": "code",
   "execution_count": 30,
   "metadata": {},
   "outputs": [
    {
     "data": {
      "text/plain": [
       "24×24 Array{Bool,2}:\n",
       " 0  1  0  1  0  0  1  0  1  1  0  0  0  1  0  1  1  0  0  1  1  1  1  1\n",
       " 1  1  1  0  0  0  0  1  0  1  0  0  0  0  1  0  0  1  0  0  0  0  0  0\n",
       " 1  1  0  1  1  0  1  1  1  0  1  0  1  0  0  1  1  1  1  1  1  0  0  0\n",
       " 1  1  1  0  1  1  1  1  1  0  0  0  1  0  1  1  1  1  1  0  1  0  0  1\n",
       " 1  1  0  1  0  0  0  0  1  0  1  1  0  1  1  1  1  0  0  0  1  0  1  1\n",
       " 0  0  0  1  1  1  1  1  1  1  1  0  1  0  0  0  0  1  1  1  1  1  0  1\n",
       " 0  0  0  0  1  0  0  1  0  0  0  1  1  0  0  1  0  1  0  1  1  1  0  0\n",
       " 0  1  1  1  1  0  0  0  1  0  0  1  0  0  0  0  0  1  0  0  0  0  0  0\n",
       " 1  0  0  1  0  1  1  0  0  1  0  0  1  1  1  0  1  0  1  1  0  0  0  0\n",
       " 1  0  1  1  1  1  0  0  1  0  1  1  1  1  0  1  0  1  0  1  1  1  0  0\n",
       " 1  1  1  0  1  0  1  0  0  0  1  0  1  1  1  1  1  1  0  1  0  0  1  1\n",
       " 1  0  1  1  1  1  0  0  0  0  1  1  0  0  1  1  1  1  1  1  1  1  0  1\n",
       " 1  1  0  0  1  1  0  1  0  0  0  1  0  0  0  1  0  1  0  1  0  1  0  0\n",
       " 0  0  0  1  0  0  1  0  0  1  0  1  0  1  1  0  0  1  1  1  0  1  1  1\n",
       " 0  1  0  1  0  0  0  0  1  0  1  1  0  1  0  0  0  1  1  1  0  1  1  0\n",
       " 1  1  1  0  1  0  0  0  1  0  0  1  0  1  1  0  1  1  1  1  1  1  0  0\n",
       " 0  1  0  1  0  1  1  1  0  1  1  0  1  1  0  1  0  0  1  0  1  1  0  0\n",
       " 0  1  1  1  1  0  1  1  1  0  1  0  0  0  1  1  1  0  1  0  0  1  0  1\n",
       " 0  0  1  0  1  0  0  1  0  0  1  0  1  0  1  0  1  1  1  1  0  1  1  1\n",
       " 1  0  0  1  1  1  1  0  0  0  1  0  1  0  1  0  1  1  1  0  1  1  1  0\n",
       " 1  1  1  1  1  0  0  1  1  1  1  1  0  0  0  1  1  1  0  0  0  0  1  1\n",
       " 1  0  1  1  0  0  1  0  0  1  0  0  0  1  0  0  1  1  1  1  0  0  0  1\n",
       " 0  1  0  1  1  1  0  0  1  1  0  0  1  1  0  0  1  1  1  1  0  1  1  0\n",
       " 0  0  0  1  1  1  0  0  0  1  1  0  0  0  1  0  0  0  1  0  0  1  1  1"
      ]
     },
     "execution_count": 30,
     "metadata": {},
     "output_type": "execute_result"
    }
   ],
   "source": [
    "mtest = [[split(x, \"\") for x in test][i][j] == \"#\" for i = 1:24, j = 1:24]"
   ]
  },
  {
   "cell_type": "code",
   "execution_count": 42,
   "metadata": {},
   "outputs": [
    {
     "name": "stdout",
     "output_type": "stream",
     "text": [
      "cm = Bool[0 1 1 1 1 0 0 0 1 1 1 1 1 0 0 1 0 0 0 1 1 1 0 0; 1 1 1 1 1 0 0 1 0 0 1 0 1 0 1 1 1 1 0 0 1 0 1 0; 0 1 0 1 0 0 0 1 0 1 1 1 0 0 0 1 0 1 1 0 1 1 0 0; 1 0 1 0 1 1 0 1 1 1 0 1 0 1 1 0 1 1 0 1 1 1 1 1; 0 0 1 1 0 1 1 1 0 1 1 1 1 0 0 1 0 1 1 1 1 0 1 1; 0 0 0 1 0 1 0 0 1 1 0 1 1 0 0 0 1 0 0 1 0 0 1 1; 1 0 1 1 0 1 0 0 1 0 1 0 0 1 0 0 1 1 0 1 0 1 0 0; 0 1 1 1 0 1 1 0 0 0 0 0 1 0 0 0 1 1 1 0 1 0 0 0; 1 0 1 1 1 1 0 1 0 1 0 0 0 0 1 1 0 1 0 0 1 0 1 0; 1 1 0 0 0 1 0 0 1 0 0 0 0 1 0 0 1 0 0 0 1 1 1 1; 0 0 1 0 1 1 0 0 0 1 1 1 0 0 1 0 1 1 1 1 1 0 0 1; 0 0 0 0 1 0 1 1 0 1 0 1 1 1 1 1 0 0 0 0 1 0 0 0; 0 0 1 1 0 1 1 0 1 1 1 0 0 0 0 0 1 0 1 1 0 0 1 0; 1 0 0 0 1 0 0 0 1 1 1 0 0 1 1 1 1 0 0 0 0 1 1 0; 0 1 0 1 1 0 0 0 1 0 1 1 0 1 0 1 0 1 1 1 0 0 0 1; 1 0 1 1 1 0 1 0 0 1 1 1 1 0 0 0 1 1 0 0 1 0 0 0; 1 0 1 1 1 0 0 0 1 0 1 1 0 0 0 1 0 1 1 1 1 1 1 0; 0 1 1 1 0 1 1 1 0 1 1 1 1 1 1 1 0 0 1 1 1 1 1 0; 0 0 1 1 0 1 0 0 1 0 0 1 0 1 1 1 1 1 1 1 0 1 1 1; 1 0 1 0 0 1 1 0 1 1 1 1 1 1 1 1 0 0 1 0 0 1 1 0; 1 0 1 1 1 1 1 0 0 1 0 1 0 0 0 1 1 0 0 1 0 0 0 0; 1 0 0 0 0 1 1 0 0 1 0 1 1 1 1 1 1 1 1 1 0 0 1 1; 1 0 0 0 1 0 0 0 0 0 1 0 0 1 1 0 0 0 1 1 1 0 1 1; 1 0 0 1 1 1 0 0 0 0 1 1 0 1 0 0 0 1 1 0 1 1 0 1]\n",
      "i: 4, j: 3\n",
      "cm = Bool[0 1 1 1 1 0 0 0 1 1 1 1 1 0 0 1 0 0 0 1 1 1 0 0; 1 1 1 1 1 0 0 1 0 0 1 0 1 0 1 1 1 1 0 0 1 0 1 0; 0 1 0 1 0 0 0 1 0 1 1 1 0 0 0 1 0 1 1 0 1 1 0 0; 1 0 1 0 1 1 0 1 1 1 0 1 0 1 1 0 1 1 0 1 1 1 1 1; 0 0 1 1 0 1 1 1 0 1 1 1 1 0 0 1 0 1 1 1 1 0 1 1; 0 0 0 1 0 1 0 0 1 1 0 1 1 0 0 0 1 0 0 1 0 0 1 1; 1 0 1 1 0 1 0 0 1 0 1 0 0 1 0 0 1 1 0 1 0 1 0 0; 0 1 1 1 0 1 1 0 0 0 0 0 1 0 0 0 1 1 1 0 1 0 0 0; 1 0 1 1 1 1 0 1 0 1 0 0 0 0 1 1 0 1 0 0 1 0 1 0; 1 1 0 0 0 1 0 0 1 0 0 0 0 1 0 0 1 0 0 0 1 1 1 1; 0 0 1 0 1 1 0 0 0 1 1 1 0 0 1 0 1 1 1 1 1 0 0 1; 0 0 0 0 1 0 1 1 0 1 0 1 1 1 1 1 0 0 0 0 1 0 0 0; 0 0 1 1 0 1 1 0 1 1 1 0 0 0 0 0 1 0 1 1 0 0 1 0; 1 0 0 0 1 0 0 0 1 1 1 0 0 1 1 1 1 0 0 0 0 1 1 0; 0 1 0 1 1 0 0 0 1 0 1 1 0 1 0 1 0 1 1 1 0 0 0 1; 1 0 1 1 1 0 1 0 0 1 1 1 1 0 0 0 1 1 0 0 1 0 0 0; 1 0 1 1 1 0 0 0 1 0 1 1 0 0 0 1 0 1 1 1 1 1 1 0; 0 1 1 1 0 1 1 1 0 1 1 1 1 1 1 1 0 0 1 1 1 1 1 0; 0 0 1 1 0 1 0 0 1 0 0 1 0 1 1 1 1 1 1 1 0 1 1 1; 1 0 1 0 0 1 1 0 1 1 1 1 1 1 1 1 0 0 1 0 0 1 1 0; 1 0 1 1 1 1 1 0 0 1 0 1 0 0 0 1 1 0 0 1 0 0 0 0; 1 0 0 0 0 1 1 0 0 1 0 1 1 1 1 1 1 1 1 1 0 0 1 1; 1 0 0 0 1 0 0 0 0 0 1 0 0 1 1 0 0 0 1 1 1 0 1 1; 1 0 0 1 1 1 0 0 0 0 1 1 0 1 0 0 0 1 1 0 1 1 0 1]\n",
      "i: 18, j: 2\n"
     ]
    }
   ],
   "source": [
    "call = []\n",
    "for f in transf\n",
    "    c = 0\n",
    "    cm = f(mtest)\n",
    "    for i = 2:23\n",
    "        for j = 1:5\n",
    "            if all([cm[idx[1], idx[2]] for idx in monsteridx(i, j)])\n",
    "                c += 1\n",
    "                @show cm\n",
    "                println(\"i: $i, j: $j\")\n",
    "            end\n",
    "        end\n",
    "    end\n",
    "    push!(call, c)\n",
    "end"
   ]
  },
  {
   "cell_type": "code",
   "execution_count": 43,
   "metadata": {},
   "outputs": [
    {
     "data": {
      "text/plain": [
       "8-element Array{Any,1}:\n",
       " 0\n",
       " 0\n",
       " 0\n",
       " 0\n",
       " 0\n",
       " 0\n",
       " 0\n",
       " 2"
      ]
     },
     "execution_count": 43,
     "metadata": {},
     "output_type": "execute_result"
    }
   ],
   "source": [
    "call"
   ]
  },
  {
   "cell_type": "code",
   "execution_count": 37,
   "metadata": {},
   "outputs": [],
   "source": [
    "m = falses(24,24)\n",
    "for (i, j) in monsteridx(4,3)\n",
    "    m[i, j] = true\n",
    "end"
   ]
  },
  {
   "cell_type": "code",
   "execution_count": 38,
   "metadata": {},
   "outputs": [
    {
     "data": {
      "text/plain": [
       "24×24 BitArray{2}:\n",
       " 0  0  0  0  0  0  0  0  0  0  0  0  0  0  0  0  0  0  0  0  0  0  0  0\n",
       " 0  0  0  0  0  0  0  0  0  0  0  0  0  0  0  0  0  0  0  0  0  0  0  0\n",
       " 0  0  0  0  0  0  0  0  0  0  0  0  0  0  0  0  0  0  0  0  1  0  0  0\n",
       " 0  0  1  0  0  0  1  1  0  0  0  0  1  1  0  0  0  0  1  1  1  1  0  0\n",
       " 0  0  0  1  0  1  0  0  1  0  0  1  0  0  1  0  0  1  0  0  0  0  0  0\n",
       " 0  0  0  0  0  0  0  0  0  0  0  0  0  0  0  0  0  0  0  0  0  0  0  0\n",
       " 0  0  0  0  0  0  0  0  0  0  0  0  0  0  0  0  0  0  0  0  0  0  0  0\n",
       " 0  0  0  0  0  0  0  0  0  0  0  0  0  0  0  0  0  0  0  0  0  0  0  0\n",
       " 0  0  0  0  0  0  0  0  0  0  0  0  0  0  0  0  0  0  0  0  0  0  0  0\n",
       " 0  0  0  0  0  0  0  0  0  0  0  0  0  0  0  0  0  0  0  0  0  0  0  0\n",
       " 0  0  0  0  0  0  0  0  0  0  0  0  0  0  0  0  0  0  0  0  0  0  0  0\n",
       " 0  0  0  0  0  0  0  0  0  0  0  0  0  0  0  0  0  0  0  0  0  0  0  0\n",
       " 0  0  0  0  0  0  0  0  0  0  0  0  0  0  0  0  0  0  0  0  0  0  0  0\n",
       " 0  0  0  0  0  0  0  0  0  0  0  0  0  0  0  0  0  0  0  0  0  0  0  0\n",
       " 0  0  0  0  0  0  0  0  0  0  0  0  0  0  0  0  0  0  0  0  0  0  0  0\n",
       " 0  0  0  0  0  0  0  0  0  0  0  0  0  0  0  0  0  0  0  0  0  0  0  0\n",
       " 0  0  0  0  0  0  0  0  0  0  0  0  0  0  0  0  0  0  0  0  0  0  0  0\n",
       " 0  0  0  0  0  0  0  0  0  0  0  0  0  0  0  0  0  0  0  0  0  0  0  0\n",
       " 0  0  0  0  0  0  0  0  0  0  0  0  0  0  0  0  0  0  0  0  0  0  0  0\n",
       " 0  0  0  0  0  0  0  0  0  0  0  0  0  0  0  0  0  0  0  0  0  0  0  0\n",
       " 0  0  0  0  0  0  0  0  0  0  0  0  0  0  0  0  0  0  0  0  0  0  0  0\n",
       " 0  0  0  0  0  0  0  0  0  0  0  0  0  0  0  0  0  0  0  0  0  0  0  0\n",
       " 0  0  0  0  0  0  0  0  0  0  0  0  0  0  0  0  0  0  0  0  0  0  0  0\n",
       " 0  0  0  0  0  0  0  0  0  0  0  0  0  0  0  0  0  0  0  0  0  0  0  0"
      ]
     },
     "execution_count": 38,
     "metadata": {},
     "output_type": "execute_result"
    }
   ],
   "source": [
    "m"
   ]
  },
  {
   "cell_type": "code",
   "execution_count": 40,
   "metadata": {},
   "outputs": [
    {
     "data": {
      "text/plain": [
       "3×24 BitArray{2}:\n",
       " 0  0  0  0  0  0  0  0  0  0  0  0  0  0  0  0  0  0  0  0  1  0  0  0\n",
       " 0  0  1  0  0  0  1  1  0  0  0  0  1  1  0  0  0  0  1  1  1  1  0  0\n",
       " 0  0  0  1  0  1  0  0  1  0  0  1  0  0  1  0  0  1  0  0  0  0  0  0"
      ]
     },
     "execution_count": 40,
     "metadata": {},
     "output_type": "execute_result"
    }
   ],
   "source": [
    "m[3:5,:]"
   ]
  },
  {
   "cell_type": "code",
   "execution_count": null,
   "metadata": {},
   "outputs": [],
   "source": [
    ".#.#...#.###...#.##.O#..\n",
    "#.O.##.OO#.#.OO.##.OOO##\n",
    "..#O.#O#.O##O..O.#O##.##"
   ]
  }
 ],
 "metadata": {
  "kernelspec": {
   "display_name": "Julia 1.5.2",
   "language": "julia",
   "name": "julia-1.5"
  },
  "language_info": {
   "file_extension": ".jl",
   "mimetype": "application/julia",
   "name": "julia",
   "version": "1.5.2"
  }
 },
 "nbformat": 4,
 "nbformat_minor": 4
}
