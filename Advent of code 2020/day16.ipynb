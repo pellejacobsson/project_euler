{
 "cells": [
  {
   "cell_type": "code",
   "execution_count": 31,
   "metadata": {},
   "outputs": [],
   "source": [
    "tickets = open(\"16_input.txt\") do f\n",
    "    readlines(f)\n",
    "    end;"
   ]
  },
  {
   "cell_type": "code",
   "execution_count": 32,
   "metadata": {},
   "outputs": [],
   "source": [
    "rexp = r\"(.*): ([0-9]*)-([0-9]*) or ([0-9]*)-([0-9]*)\"\n",
    "rules = Dict()\n",
    "for r in tickets[1:20]\n",
    "    m = match(rexp, r)\n",
    "    name = m.captures[1]\n",
    "    i = [parse(Int, m.captures[n]) for n in 2:5]\n",
    "    rules[name] = [collect(i[1]:i[2]); collect(i[3]:i[4])]\n",
    "end"
   ]
  },
  {
   "cell_type": "code",
   "execution_count": 34,
   "metadata": {},
   "outputs": [],
   "source": [
    "myticket = [parse(Int, n) for n in split(tickets[23], \",\")];"
   ]
  },
  {
   "cell_type": "code",
   "execution_count": 35,
   "metadata": {},
   "outputs": [],
   "source": [
    "nearby = []\n",
    "for t in tickets[26:end]\n",
    "    push!(nearby, [parse(Int, n) for n in split(t, \",\")])\n",
    "end"
   ]
  },
  {
   "cell_type": "code",
   "execution_count": 79,
   "metadata": {},
   "outputs": [],
   "source": [
    "s = 0\n",
    "nearby_valid = []\n",
    "for nb in nearby\n",
    "    nidx = trues(length(nb))\n",
    "    for (key, val) in rules\n",
    "        nidx = nidx .& (nb .∉ (val,))\n",
    "    end\n",
    "    s += sum(nb[nidx])\n",
    "    if !any(nidx)\n",
    "        push!(nearby_valid, nb)\n",
    "    end\n",
    "end"
   ]
  },
  {
   "cell_type": "code",
   "execution_count": 114,
   "metadata": {},
   "outputs": [],
   "source": [
    "possible_field = Dict()\n",
    "for (key, val) in rules\n",
    "    idx = trues(length(nearby_valid[1]))\n",
    "    for nb in nearby_valid\n",
    "        idx = idx .& (nb .∈ (val,))\n",
    "    end\n",
    "    possible_field[key] = (1:20)[idx]\n",
    "end"
   ]
  },
  {
   "cell_type": "code",
   "execution_count": 115,
   "metadata": {},
   "outputs": [
    {
     "data": {
      "text/plain": [
       "Dict{Any,Any} with 20 entries:\n",
       "  \"departure date\"     => [5, 6, 9, 10, 11, 13, 15, 16, 19]\n",
       "  \"zone\"               => [1, 3, 4, 5, 6, 7, 8, 9, 10, 11, 13, 14, 15, 16, 17, …\n",
       "  \"price\"              => [9, 13, 15]\n",
       "  \"arrival station\"    => [1, 3, 5, 6, 8, 9, 10, 11, 13, 15, 16, 18, 19, 20]\n",
       "  \"wagon\"              => [5, 9, 10, 13, 15]\n",
       "  \"row\"                => [1, 3, 5, 6, 7, 8, 9, 10, 11, 13, 15, 16, 17, 18, 19,…\n",
       "  \"duration\"           => [1, 3, 5, 6, 7, 8, 9, 10, 11, 13, 14, 15, 16, 17, 18,…\n",
       "  \"departure station\"  => [5, 6, 9, 10, 13, 15, 16, 19]\n",
       "  \"arrival location\"   => [1, 2, 3, 4, 5, 6, 7, 8, 9, 10, 11, 13, 14, 15, 16, 1…\n",
       "  \"train\"              => [5, 9, 10, 13, 15, 19]\n",
       "  \"departure track\"    => [5, 6, 9, 10, 11, 13, 15, 16, 19, 20]\n",
       "  \"departure time\"     => [5, 9, 10, 13, 15, 16, 19]\n",
       "  \"route\"              => [13]\n",
       "  \"departure location\" => [3, 5, 6, 9, 10, 11, 13, 15, 16, 18, 19, 20]\n",
       "  \"class\"              => [9, 13]\n",
       "  \"departure platform\" => [5, 6, 9, 10, 11, 13, 15, 16, 18, 19, 20]\n",
       "  \"arrival platform\"   => [3, 5, 6, 8, 9, 10, 11, 13, 15, 16, 18, 19, 20]\n",
       "  \"arrival track\"      => [9, 10, 13, 15]\n",
       "  \"seat\"               => [1, 2, 3, 4, 5, 6, 7, 8, 9, 10, 11, 12, 13, 14, 15, 1…\n",
       "  \"type\"               => [1, 3, 5, 6, 8, 9, 10, 11, 13, 15, 16, 17, 18, 19, 20]"
      ]
     },
     "execution_count": 115,
     "metadata": {},
     "output_type": "execute_result"
    }
   ],
   "source": [
    "possible_field"
   ]
  },
  {
   "cell_type": "code",
   "execution_count": 119,
   "metadata": {},
   "outputs": [],
   "source": [
    "field = Dict()\n",
    "ckey = \"\"\n",
    "cval = -1\n",
    "while length(possible_field) > 0\n",
    "    for (key, val) in possible_field\n",
    "        if length(val) == 1\n",
    "            field[key] = val[1]\n",
    "            ckey = key\n",
    "            cval = val[1]\n",
    "        end\n",
    "    end\n",
    "    delete!(possible_field, ckey)\n",
    "    for (key, val) in possible_field\n",
    "        filter!(x -> x ≠ cval, possible_field[key])\n",
    "    end\n",
    "end"
   ]
  },
  {
   "cell_type": "code",
   "execution_count": 121,
   "metadata": {},
   "outputs": [
    {
     "data": {
      "text/plain": [
       "Dict{Any,Any} with 19 entries:\n",
       "  \"departure date\"     => 11\n",
       "  \"zone\"               => 4\n",
       "  \"price\"              => 15\n",
       "  \"wagon\"              => 5\n",
       "  \"arrival station\"    => 1\n",
       "  \"row\"                => 7\n",
       "  \"duration\"           => 14\n",
       "  \"departure station\"  => 6\n",
       "  \"train\"              => 19\n",
       "  \"arrival location\"   => 2\n",
       "  \"departure track\"    => 20\n",
       "  \"departure time\"     => 16\n",
       "  \"departure location\" => 3\n",
       "  \"class\"              => 9\n",
       "  \"departure platform\" => 18\n",
       "  \"arrival platform\"   => 8\n",
       "  \"arrival track\"      => 10\n",
       "  \"seat\"               => 12\n",
       "  \"type\"               => 17"
      ]
     },
     "execution_count": 121,
     "metadata": {},
     "output_type": "execute_result"
    }
   ],
   "source": [
    "field"
   ]
  },
  {
   "cell_type": "code",
   "execution_count": 129,
   "metadata": {},
   "outputs": [],
   "source": [
    "idx = []\n",
    "for (key, val) in field\n",
    "    if occursin(\"departure\", key)\n",
    "        push!(idx, val)\n",
    "    end\n",
    "end"
   ]
  },
  {
   "cell_type": "code",
   "execution_count": 130,
   "metadata": {},
   "outputs": [
    {
     "data": {
      "text/plain": [
       "6-element Array{Any,1}:\n",
       " 11\n",
       "  6\n",
       " 20\n",
       " 16\n",
       "  3\n",
       " 18"
      ]
     },
     "execution_count": 130,
     "metadata": {},
     "output_type": "execute_result"
    }
   ],
   "source": [
    "idx"
   ]
  },
  {
   "cell_type": "code",
   "execution_count": 132,
   "metadata": {},
   "outputs": [
    {
     "data": {
      "text/plain": [
       "910339449193"
      ]
     },
     "execution_count": 132,
     "metadata": {},
     "output_type": "execute_result"
    }
   ],
   "source": [
    "prod(myticket[idx])"
   ]
  },
  {
   "cell_type": "code",
   "execution_count": null,
   "metadata": {},
   "outputs": [],
   "source": []
  }
 ],
 "metadata": {
  "kernelspec": {
   "display_name": "Julia 1.5.2",
   "language": "julia",
   "name": "julia-1.5"
  },
  "language_info": {
   "file_extension": ".jl",
   "mimetype": "application/julia",
   "name": "julia",
   "version": "1.5.2"
  }
 },
 "nbformat": 4,
 "nbformat_minor": 4
}
