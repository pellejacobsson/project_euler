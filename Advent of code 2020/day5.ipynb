{
 "cells": [
  {
   "cell_type": "code",
   "execution_count": 18,
   "metadata": {},
   "outputs": [
    {
     "data": {
      "text/plain": [
       "4-element Array{String,1}:\n",
       " \"FBFBBFFRLR\"\n",
       " \"BFFFBBFRRR\"\n",
       " \"FFFBBBFRRR\"\n",
       " \"BBFFBBFRLL\""
      ]
     },
     "execution_count": 18,
     "metadata": {},
     "output_type": "execute_result"
    }
   ],
   "source": [
    "tests = [\"FBFBBFFRLR\", \"BFFFBBFRRR\", \"FFFBBBFRRR\", \"BBFFBBFRLL\"]"
   ]
  },
  {
   "cell_type": "code",
   "execution_count": 26,
   "metadata": {},
   "outputs": [
    {
     "data": {
      "text/plain": [
       "getseat (generic function with 1 method)"
      ]
     },
     "execution_count": 26,
     "metadata": {},
     "output_type": "execute_result"
    }
   ],
   "source": [
    "function getrow(b)\n",
    "    r = b[1:7]\n",
    "    allrows = 0:127\n",
    "    for rr in r\n",
    "        rl = length(allrows)\n",
    "        if rr == 'F'\n",
    "            allrows = allrows[1:Int(rl/2)]\n",
    "        else\n",
    "            allrows = allrows[Int(rl/2)+1:end]\n",
    "        end\n",
    "    end\n",
    "    return allrows[1]\n",
    "end\n",
    "\n",
    "function getcol(b)\n",
    "    c = b[8:10]\n",
    "    allcols = 0:7\n",
    "    for cc in c\n",
    "        cl = length(allcols)\n",
    "        if cc == 'L'\n",
    "            allcols = allcols[1:Int(cl/2)]\n",
    "        else\n",
    "            allcols = allcols[Int(cl/2)+1:end]\n",
    "        end\n",
    "    end\n",
    "    return allcols[1]\n",
    "end\n",
    "            \n",
    "function getseat(b)\n",
    "    row = getrow(b)\n",
    "    col = getcol(b)\n",
    "    return row*8 + col\n",
    "end"
   ]
  },
  {
   "cell_type": "code",
   "execution_count": 28,
   "metadata": {},
   "outputs": [
    {
     "name": "stdout",
     "output_type": "stream",
     "text": [
      "Row: 44, col: 5, seat: 357\n",
      "Row: 70, col: 7, seat: 567\n",
      "Row: 14, col: 7, seat: 119\n",
      "Row: 102, col: 4, seat: 820\n"
     ]
    }
   ],
   "source": [
    "for test in tests\n",
    "    row = getrow(test)\n",
    "    col = getcol(test)\n",
    "    println(\"Row: $row, col: $col, seat: $(row*8 + col)\")\n",
    "end"
   ]
  },
  {
   "cell_type": "code",
   "execution_count": 29,
   "metadata": {},
   "outputs": [],
   "source": [
    "boardingpasses = open(\"5input.txt\") do f\n",
    "    split(read(f, String), \"\\n\")\n",
    "end;"
   ]
  },
  {
   "cell_type": "code",
   "execution_count": 35,
   "metadata": {},
   "outputs": [],
   "source": [
    "seats = []\n",
    "for b in boardingpasses\n",
    "    if length(b) == 10\n",
    "        push!(seats, getseat(b))\n",
    "    end\n",
    "end"
   ]
  },
  {
   "cell_type": "code",
   "execution_count": 39,
   "metadata": {},
   "outputs": [
    {
     "data": {
      "text/plain": [
       "866"
      ]
     },
     "execution_count": 39,
     "metadata": {},
     "output_type": "execute_result"
    }
   ],
   "source": [
    "maximum(seats)"
   ]
  },
  {
   "cell_type": "code",
   "execution_count": 43,
   "metadata": {},
   "outputs": [
    {
     "name": "stdout",
     "output_type": "stream",
     "text": [
      "My seat: 583!\n"
     ]
    }
   ],
   "source": [
    "nmax = 127*8 + 7\n",
    "for n = 2:nmax-1\n",
    "    if !(n in seats) & (n-1 in seats) & (n+1 in seats)\n",
    "        println(\"My seat: $(n)!\")\n",
    "    end\n",
    "end"
   ]
  },
  {
   "cell_type": "code",
   "execution_count": null,
   "metadata": {},
   "outputs": [],
   "source": []
  }
 ],
 "metadata": {
  "kernelspec": {
   "display_name": "Julia 1.5.2",
   "language": "julia",
   "name": "julia-1.5"
  },
  "language_info": {
   "file_extension": ".jl",
   "mimetype": "application/julia",
   "name": "julia",
   "version": "1.5.2"
  }
 },
 "nbformat": 4,
 "nbformat_minor": 4
}
