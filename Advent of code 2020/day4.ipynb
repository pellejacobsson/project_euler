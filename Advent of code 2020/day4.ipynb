{
 "cells": [
  {
   "cell_type": "code",
   "execution_count": 1,
   "metadata": {},
   "outputs": [],
   "source": [
    "l = open(\"4_input.txt\") do f\n",
    "    read(f, String)\n",
    "end;"
   ]
  },
  {
   "cell_type": "code",
   "execution_count": 44,
   "metadata": {},
   "outputs": [
    {
     "data": {
      "text/plain": [
       "checkvalid (generic function with 1 method)"
      ]
     },
     "execution_count": 44,
     "metadata": {},
     "output_type": "execute_result"
    }
   ],
   "source": [
    "function checkvalid(p)\n",
    "    if (length(p) < 7) | ((length(p) == 7) & (\"cid\" in keys(p)))\n",
    "        return false\n",
    "    else\n",
    "        if length(p[\"byr\"]) != 4\n",
    "            return false\n",
    "        else\n",
    "            byr = parse(Int, p[\"byr\"])\n",
    "            if (byr < 1920) | (byr > 2002)\n",
    "                return false\n",
    "            end\n",
    "        end\n",
    "        if length(p[\"iyr\"]) != 4\n",
    "            return false\n",
    "        else\n",
    "            iyr = parse(Int, p[\"iyr\"])\n",
    "            if (iyr < 2010) | (iyr > 2020)\n",
    "                return false\n",
    "            end\n",
    "        end\n",
    "        if length(p[\"eyr\"]) != 4\n",
    "            return false\n",
    "        else\n",
    "            eyr = parse(Int, p[\"eyr\"])\n",
    "            if (eyr < 2020) | (eyr > 2030)\n",
    "                return false\n",
    "            end\n",
    "        end\n",
    "        if length(p[\"hgt\"]) < 3\n",
    "            return false\n",
    "        else\n",
    "            hgt = parse(Int, p[\"hgt\"][1:end-2])\n",
    "            if p[\"hgt\"][end-1:end] == \"cm\"\n",
    "                if (hgt < 150) | (hgt > 193)\n",
    "                    return false\n",
    "                end\n",
    "            elseif p[\"hgt\"][end-1:end] == \"in\"\n",
    "                if (hgt < 59) | (hgt > 76)\n",
    "                    return false\n",
    "                end\n",
    "            end\n",
    "        end\n",
    "        if length(p[\"hcl\"]) != 7\n",
    "            return false\n",
    "        else\n",
    "            hcl = p[\"hcl\"]\n",
    "            if match(r\"#[a-f0-9]{6}\", hcl) == nothing\n",
    "                return false\n",
    "            end\n",
    "        end\n",
    "        if length(p[\"ecl\"]) != 3\n",
    "            return false\n",
    "        else\n",
    "            ecl = p[\"ecl\"]\n",
    "            if !(ecl in [\"amb\", \"blu\", \"brn\", \"gry\", \"grn\", \"hzl\", \"oth\"])\n",
    "                return false\n",
    "            end\n",
    "        end\n",
    "        if length(p[\"pid\"]) != 9\n",
    "            return false\n",
    "        else\n",
    "            pid = p[\"pid\"]\n",
    "            if match(r\"[0-9]{9}\", pid) == nothing\n",
    "                return false\n",
    "            end\n",
    "        end\n",
    "        return true\n",
    "    end\n",
    "end"
   ]
  },
  {
   "cell_type": "code",
   "execution_count": 45,
   "metadata": {},
   "outputs": [],
   "source": [
    "nvalid = 0\n",
    "rexp = r\"([a-z]{3}):([^\\s]*)\"\n",
    "for ll in split(l, \"\\r\\n\\r\\n\")\n",
    "    d = Dict()\n",
    "    for m in eachmatch(rexp, ll)\n",
    "        d[m.captures[1]] = m.captures[2]\n",
    "    end\n",
    "    if checkvalid(d)\n",
    "        nvalid += 1\n",
    "    end\n",
    "end\n",
    "    "
   ]
  },
  {
   "cell_type": "code",
   "execution_count": 46,
   "metadata": {},
   "outputs": [
    {
     "data": {
      "text/plain": [
       "167"
      ]
     },
     "execution_count": 46,
     "metadata": {},
     "output_type": "execute_result"
    }
   ],
   "source": [
    "nvalid"
   ]
  },
  {
   "cell_type": "code",
   "execution_count": null,
   "metadata": {},
   "outputs": [],
   "source": []
  }
 ],
 "metadata": {
  "kernelspec": {
   "display_name": "Julia 1.5.2",
   "language": "julia",
   "name": "julia-1.5"
  },
  "language_info": {
   "file_extension": ".jl",
   "mimetype": "application/julia",
   "name": "julia",
   "version": "1.5.2"
  }
 },
 "nbformat": 4,
 "nbformat_minor": 4
}
