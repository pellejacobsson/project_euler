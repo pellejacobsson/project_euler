{
 "cells": [
  {
   "cell_type": "code",
   "execution_count": 14,
   "metadata": {},
   "outputs": [],
   "source": [
    "food = open(\"21_input.txt\") do f\n",
    "    readlines(f)\n",
    "end;"
   ]
  },
  {
   "cell_type": "code",
   "execution_count": 15,
   "metadata": {},
   "outputs": [
    {
     "data": {
      "text/plain": [
       "r\"^(.*) \\(contains (.*)\\)$\""
      ]
     },
     "execution_count": 15,
     "metadata": {},
     "output_type": "execute_result"
    }
   ],
   "source": [
    "rexp = r\"^(.*) \\(contains (.*)\\)$\""
   ]
  },
  {
   "cell_type": "code",
   "execution_count": 16,
   "metadata": {},
   "outputs": [],
   "source": [
    "ingr = []\n",
    "aller = []\n",
    "for f in food\n",
    "    m = match(rexp, f)\n",
    "    push!(ingr, split(m.captures[1], \" \"))\n",
    "    push!(aller, split(m.captures[2], \", \"))\n",
    "end"
   ]
  },
  {
   "cell_type": "code",
   "execution_count": 17,
   "metadata": {},
   "outputs": [
    {
     "data": {
      "text/plain": [
       "200-element Array{SubString{String},1}:\n",
       " \"lnjzfq\"\n",
       " \"hnd\"\n",
       " \"jdlck\"\n",
       " \"shnvtq\"\n",
       " \"tlvj\"\n",
       " \"bnn\"\n",
       " \"gzjpxg\"\n",
       " \"pksjkpz\"\n",
       " \"bkvkccp\"\n",
       " \"znv\"\n",
       " \"hdbqg\"\n",
       " \"hnqpzm\"\n",
       " \"cfpsqd\"\n",
       " ⋮\n",
       " \"vjrr\"\n",
       " \"vvcqgp\"\n",
       " \"nkhgf\"\n",
       " \"fcdg\"\n",
       " \"lpbhxnr\"\n",
       " \"cjx\"\n",
       " \"prv\"\n",
       " \"zzjpb\"\n",
       " \"qvmfxpr\"\n",
       " \"kq\"\n",
       " \"nljmg\"\n",
       " \"dfjbgjq\""
      ]
     },
     "execution_count": 17,
     "metadata": {},
     "output_type": "execute_result"
    }
   ],
   "source": [
    "allaller = unique([(aller...)...])\n",
    "allingr = unique([(ingr...)...])"
   ]
  },
  {
   "cell_type": "code",
   "execution_count": 25,
   "metadata": {},
   "outputs": [],
   "source": [
    "d = Dict()\n",
    "for a in allaller\n",
    "    s = Set(allingr)\n",
    "    for i = 1:length(ingr)\n",
    "        if a ∈ aller[i]\n",
    "            s = intersect(s, Set(ingr[i]))\n",
    "        end\n",
    "    end\n",
    "    d[a] = s\n",
    "end"
   ]
  },
  {
   "cell_type": "code",
   "execution_count": 26,
   "metadata": {},
   "outputs": [
    {
     "data": {
      "text/plain": [
       "Dict{Any,Any} with 8 entries:\n",
       "  \"soy\"       => Set(SubString{String}[\"mfqgx\", \"tgmzqjz\"])\n",
       "  \"peanuts\"   => Set(SubString{String}[\"zhqjs\", \"rbpg\", \"tgmzqjz\"])\n",
       "  \"eggs\"      => Set(SubString{String}[\"dglm\", \"tgmzqjz\", \"rffqhl\"])\n",
       "  \"fish\"      => Set(SubString{String}[\"zhqjs\", \"xvtrfz\", \"mfqgx\", \"tgmzqjz\"])\n",
       "  \"dairy\"     => Set(SubString{String}[\"cdqvp\", \"xvtrfz\", \"mfqgx\", \"tgmzqjz\"])\n",
       "  \"wheat\"     => Set(SubString{String}[\"cdqvp\", \"rffqhl\"])\n",
       "  \"shellfish\" => Set(SubString{String}[\"tgmzqjz\"])\n",
       "  \"sesame\"    => Set(SubString{String}[\"xvtrfz\", \"mfqgx\", \"tgmzqjz\"])"
      ]
     },
     "execution_count": 26,
     "metadata": {},
     "output_type": "execute_result"
    }
   ],
   "source": [
    "d"
   ]
  },
  {
   "cell_type": "code",
   "execution_count": 27,
   "metadata": {},
   "outputs": [],
   "source": [
    "for i = 1:8\n",
    "    for (key, val) in d\n",
    "        if length(val) == 1\n",
    "            for (key2, val2) in d\n",
    "                if key != key2\n",
    "                    d[key2] = setdiff(val2, val)\n",
    "                end\n",
    "            end\n",
    "        end\n",
    "    end\n",
    "end        "
   ]
  },
  {
   "cell_type": "code",
   "execution_count": 28,
   "metadata": {},
   "outputs": [
    {
     "data": {
      "text/plain": [
       "Dict{Any,Any} with 8 entries:\n",
       "  \"soy\"       => Set(SubString{String}[\"mfqgx\"])\n",
       "  \"peanuts\"   => Set(SubString{String}[\"rbpg\"])\n",
       "  \"eggs\"      => Set(SubString{String}[\"dglm\"])\n",
       "  \"fish\"      => Set(SubString{String}[\"zhqjs\"])\n",
       "  \"dairy\"     => Set(SubString{String}[\"cdqvp\"])\n",
       "  \"wheat\"     => Set(SubString{String}[\"rffqhl\"])\n",
       "  \"shellfish\" => Set(SubString{String}[\"tgmzqjz\"])\n",
       "  \"sesame\"    => Set(SubString{String}[\"xvtrfz\"])"
      ]
     },
     "execution_count": 28,
     "metadata": {},
     "output_type": "execute_result"
    }
   ],
   "source": [
    "d"
   ]
  },
  {
   "cell_type": "code",
   "execution_count": 40,
   "metadata": {},
   "outputs": [
    {
     "data": {
      "text/plain": [
       "8-element Array{SubString{String},1}:\n",
       " \"mfqgx\"\n",
       " \"rbpg\"\n",
       " \"dglm\"\n",
       " \"zhqjs\"\n",
       " \"cdqvp\"\n",
       " \"rffqhl\"\n",
       " \"tgmzqjz\"\n",
       " \"xvtrfz\""
      ]
     },
     "execution_count": 40,
     "metadata": {},
     "output_type": "execute_result"
    }
   ],
   "source": [
    "alleringr = [collect(s)[1] for s in [val for (key, val) in d]]"
   ]
  },
  {
   "cell_type": "code",
   "execution_count": 47,
   "metadata": {},
   "outputs": [
    {
     "data": {
      "text/plain": [
       "2061"
      ]
     },
     "execution_count": 47,
     "metadata": {},
     "output_type": "execute_result"
    }
   ],
   "source": [
    "length(filter(x -> x ∉ alleringr, [(ingr...)...]))"
   ]
  },
  {
   "cell_type": "code",
   "execution_count": 54,
   "metadata": {},
   "outputs": [
    {
     "data": {
      "text/plain": [
       "8-element Array{Any,1}:\n",
       " \"dairy\"\n",
       " \"eggs\"\n",
       " \"fish\"\n",
       " \"peanuts\"\n",
       " \"sesame\"\n",
       " \"shellfish\"\n",
       " \"soy\"\n",
       " \"wheat\""
      ]
     },
     "execution_count": 54,
     "metadata": {},
     "output_type": "execute_result"
    }
   ],
   "source": [
    "skeys = sort(collect(keys(d)))"
   ]
  },
  {
   "cell_type": "code",
   "execution_count": 58,
   "metadata": {},
   "outputs": [
    {
     "data": {
      "text/plain": [
       "\"cdqvp,dglm,zhqjs,rbpg,xvtrfz,tgmzqjz,mfqgx,rffqhl\""
      ]
     },
     "execution_count": 58,
     "metadata": {},
     "output_type": "execute_result"
    }
   ],
   "source": [
    "join([([collect(d[k]) for k in skeys]...)...], \",\")"
   ]
  },
  {
   "cell_type": "code",
   "execution_count": null,
   "metadata": {},
   "outputs": [],
   "source": []
  }
 ],
 "metadata": {
  "kernelspec": {
   "display_name": "Julia 1.5.2",
   "language": "julia",
   "name": "julia-1.5"
  },
  "language_info": {
   "file_extension": ".jl",
   "mimetype": "application/julia",
   "name": "julia",
   "version": "1.5.2"
  }
 },
 "nbformat": 4,
 "nbformat_minor": 4
}
