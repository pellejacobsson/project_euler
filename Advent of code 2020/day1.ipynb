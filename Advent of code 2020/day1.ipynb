{
 "cells": [
  {
   "cell_type": "code",
   "execution_count": 6,
   "metadata": {},
   "outputs": [],
   "source": [
    "using DelimitedFiles"
   ]
  },
  {
   "cell_type": "code",
   "execution_count": 9,
   "metadata": {},
   "outputs": [
    {
     "data": {
      "text/plain": [
       "200×1 Array{Float64,2}:\n",
       " 1652.0\n",
       " 1998.0\n",
       " 1677.0\n",
       " 1855.0\n",
       " 1955.0\n",
       " 1875.0\n",
       " 1993.0\n",
       " 1860.0\n",
       " 1752.0\n",
       " 1936.0\n",
       " 1816.0\n",
       " 1924.0\n",
       " 1872.0\n",
       "    ⋮\n",
       " 1704.0\n",
       " 1903.0\n",
       " 1997.0\n",
       " 1876.0\n",
       " 1992.0\n",
       " 1864.0\n",
       " 1932.0\n",
       " 1918.0\n",
       " 1962.0\n",
       " 1802.0\n",
       " 1278.0\n",
       " 1861.0"
      ]
     },
     "execution_count": 9,
     "metadata": {},
     "output_type": "execute_result"
    }
   ],
   "source": [
    "l =readdlm(\"1_input.txt\")"
   ]
  },
  {
   "cell_type": "code",
   "execution_count": 10,
   "metadata": {},
   "outputs": [
    {
     "name": "stdout",
     "output_type": "stream",
     "text": [
      "m = 529.0, n = 1491.0\n",
      "m = 1491.0, n = 529.0\n"
     ]
    }
   ],
   "source": [
    "for n in l\n",
    "    for m in l\n",
    "        if n + m == 2020\n",
    "            println(\"m = $m, n = $n\")\n",
    "        end\n",
    "    end\n",
    "end"
   ]
  },
  {
   "cell_type": "code",
   "execution_count": 11,
   "metadata": {},
   "outputs": [
    {
     "data": {
      "text/plain": [
       "788739"
      ]
     },
     "execution_count": 11,
     "metadata": {},
     "output_type": "execute_result"
    }
   ],
   "source": [
    "1491*529"
   ]
  },
  {
   "cell_type": "code",
   "execution_count": 12,
   "metadata": {},
   "outputs": [
    {
     "name": "stdout",
     "output_type": "stream",
     "text": [
      "m = 843.0, n = 222.0, p = 955.0\n",
      "m = 955.0, n = 222.0, p = 843.0\n",
      "m = 222.0, n = 843.0, p = 955.0\n",
      "m = 955.0, n = 843.0, p = 222.0\n",
      "m = 222.0, n = 955.0, p = 843.0\n",
      "m = 843.0, n = 955.0, p = 222.0\n"
     ]
    }
   ],
   "source": [
    "for n in l\n",
    "    for m in l\n",
    "        for p in l\n",
    "            if n + m + p == 2020\n",
    "                println(\"m = $m, n = $n, p = $p\")\n",
    "            end\n",
    "        end\n",
    "    end\n",
    "end"
   ]
  },
  {
   "cell_type": "code",
   "execution_count": 13,
   "metadata": {},
   "outputs": [
    {
     "data": {
      "text/plain": [
       "178724430"
      ]
     },
     "execution_count": 13,
     "metadata": {},
     "output_type": "execute_result"
    }
   ],
   "source": [
    "222*843*955"
   ]
  },
  {
   "cell_type": "code",
   "execution_count": null,
   "metadata": {},
   "outputs": [],
   "source": []
  }
 ],
 "metadata": {
  "kernelspec": {
   "display_name": "Julia 1.5.2",
   "language": "julia",
   "name": "julia-1.5"
  },
  "language_info": {
   "file_extension": ".jl",
   "mimetype": "application/julia",
   "name": "julia",
   "version": "1.5.2"
  }
 },
 "nbformat": 4,
 "nbformat_minor": 4
}
