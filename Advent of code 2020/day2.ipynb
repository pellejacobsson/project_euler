{
 "cells": [
  {
   "cell_type": "code",
   "execution_count": 1,
   "metadata": {},
   "outputs": [
    {
     "data": {
      "text/plain": [
       "1000-element Array{String,1}:\n",
       " \"13-14 f: ffffffffnfffvv\"\n",
       " \"10-12 w: kwtzpnzspwwwdz\"\n",
       " \"2-3 n: nnjn\"\n",
       " \"2-3 h: hhhh\"\n",
       " \"2-11 c: crccccccccsccc\"\n",
       " \"1-6 b: lcpcbcr\"\n",
       " \"16-20 q: qsqqqqqqqjqqqvqqqqqh\"\n",
       " \"4-5 m: mmfmm\"\n",
       " \"10-13 h: hhhhhhchhkhhphh\"\n",
       " \"10-14 x: xxvxxxxxxvxxxwx\"\n",
       " \"2-7 v: tvvgvrvvv\"\n",
       " \"8-11 j: jjjjrjwljjzjkmc\"\n",
       " \"2-5 t: xtpftb\"\n",
       " ⋮\n",
       " \"1-4 b: bbbc\"\n",
       " \"8-10 p: ppppptjpspkpppp\"\n",
       " \"7-10 w: pjhswvhdjqx\"\n",
       " \"11-13 c: cfcfccbcctgnccccvcc\"\n",
       " \"8-14 t: tttttttttgtttttts\"\n",
       " \"1-4 c: fcccc\"\n",
       " \"4-6 v: tvfvvvqvlkrpxkvvhztr\"\n",
       " \"3-6 v: vvdvvbv\"\n",
       " \"13-15 p: pwppppppppppppp\"\n",
       " \"1-2 v: pwbr\"\n",
       " \"15-18 r: xrrrbrrrgrpbrprrqrqr\"\n",
       " \"2-4 g: zgggp\""
      ]
     },
     "execution_count": 1,
     "metadata": {},
     "output_type": "execute_result"
    }
   ],
   "source": [
    "l = open(\"2_input.txt\", \"r\") do f\n",
    "    readlines(f)\n",
    "end"
   ]
  },
  {
   "cell_type": "code",
   "execution_count": 42,
   "metadata": {},
   "outputs": [],
   "source": [
    "rexp = r\"([0-9]*)-([0-9]*)\\s*([a-z]):\\s*(.*)\"\n",
    "count = 0\n",
    "for pw in l\n",
    "    m = match(rexp, pw)\n",
    "    nmin = parse(Int, m.captures[1])\n",
    "    nmax = parse(Int, m.captures[2])\n",
    "    letter = m.captures[3]\n",
    "    pwtext = m.captures[4]\n",
    "    n = sum([letter[1] == s for s in pwtext])\n",
    "    if (n >= nmin) & (n <= nmax)\n",
    "        count += 1\n",
    "    end\n",
    "end\n",
    "    "
   ]
  },
  {
   "cell_type": "code",
   "execution_count": 43,
   "metadata": {},
   "outputs": [
    {
     "data": {
      "text/plain": [
       "603"
      ]
     },
     "execution_count": 43,
     "metadata": {},
     "output_type": "execute_result"
    }
   ],
   "source": [
    "count"
   ]
  },
  {
   "cell_type": "code",
   "execution_count": 53,
   "metadata": {},
   "outputs": [],
   "source": [
    "rexp = r\"([0-9]*)-([0-9]*)\\s*([a-z]):\\s*(.*)\"\n",
    "count = 0\n",
    "for pw in l\n",
    "    m = match(rexp, pw)\n",
    "    i1 = parse(Int, m.captures[1])\n",
    "    i2 = parse(Int, m.captures[2])\n",
    "    letter = m.captures[3]\n",
    "    pwtext = m.captures[4]\n",
    "    if (pwtext[i1] == letter[1]) ⊻ (pwtext[i2] == letter[1])\n",
    "        count += 1\n",
    "    end\n",
    "end\n",
    "    "
   ]
  },
  {
   "cell_type": "code",
   "execution_count": 54,
   "metadata": {},
   "outputs": [
    {
     "data": {
      "text/plain": [
       "404"
      ]
     },
     "execution_count": 54,
     "metadata": {},
     "output_type": "execute_result"
    }
   ],
   "source": [
    "count"
   ]
  },
  {
   "cell_type": "code",
   "execution_count": null,
   "metadata": {},
   "outputs": [],
   "source": []
  }
 ],
 "metadata": {
  "kernelspec": {
   "display_name": "Julia 1.5.2",
   "language": "julia",
   "name": "julia-1.5"
  },
  "language_info": {
   "file_extension": ".jl",
   "mimetype": "application/julia",
   "name": "julia",
   "version": "1.5.2"
  }
 },
 "nbformat": 4,
 "nbformat_minor": 4
}
