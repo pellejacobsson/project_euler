{
 "cells": [
  {
   "cell_type": "code",
   "execution_count": 80,
   "metadata": {},
   "outputs": [
    {
     "data": {
      "text/plain": [
       "8-element Array{Array{SubString{String},1},1}:\n",
       " [\"#\", \".\", \"#\", \".\", \".\", \"#\", \"#\", \"#\"]\n",
       " [\".\", \"#\", \".\", \".\", \".\", \".\", \"#\", \"#\"]\n",
       " [\".\", \"#\", \"#\", \"#\", \".\", \".\", \".\", \"#\"]\n",
       " [\".\", \".\", \"#\", \"#\", \"#\", \"#\", \".\", \".\"]\n",
       " [\".\", \".\", \".\", \".\", \"#\", \"#\", \"#\", \".\"]\n",
       " [\"#\", \"#\", \".\", \"#\", \".\", \"#\", \".\", \"#\"]\n",
       " [\".\", \".\", \"#\", \".\", \".\", \"#\", \"#\", \".\"]\n",
       " [\"#\", \".\", \".\", \".\", \".\", \".\", \"#\", \"#\"]"
      ]
     },
     "execution_count": 80,
     "metadata": {},
     "output_type": "execute_result"
    }
   ],
   "source": [
    "cubes = open(\"17_input.txt\") do f\n",
    "    [split(r, \"\") for r in readlines(f)]\n",
    "end"
   ]
  },
  {
   "cell_type": "code",
   "execution_count": 75,
   "metadata": {},
   "outputs": [
    {
     "data": {
      "text/plain": [
       "updategrid (generic function with 1 method)"
      ]
     },
     "execution_count": 75,
     "metadata": {},
     "output_type": "execute_result"
    }
   ],
   "source": [
    "function updategrid(grid)\n",
    "    ngrid = deepcopy(grid)\n",
    "    nx, ny, nz, nw = size(grid)\n",
    "    for i = 2:nx-1\n",
    "        for j = 2:ny-1\n",
    "            for k = 2:nz-1\n",
    "                for l = 2:nw-1\n",
    "                    if !ngrid[i, j, k, l]\n",
    "                        if sum(ngrid[i-1:i+1, j-1:j+1, k-1:k+1, l-1:l+1]) == 3\n",
    "                            grid[i, j, k, l] = true\n",
    "                        end\n",
    "                    else\n",
    "                        if sum(ngrid[i-1:i+1, j-1:j+1, k-1:k+1, l-1:l+1]) ∉ [3,4]\n",
    "                            grid[i, j, k, l] = false\n",
    "                        end\n",
    "                    end\n",
    "                end\n",
    "            end\n",
    "        end\n",
    "    end\n",
    "end\n",
    "                    "
   ]
  },
  {
   "cell_type": "code",
   "execution_count": 81,
   "metadata": {},
   "outputs": [],
   "source": [
    "nxyz = 8 + 7 * 2\n",
    "grid = falses(nxyz, nxyz, nxyz, nxyz)\n",
    "grid[8:15, 8:15, 10, 10] = [cubes[m][n] == \"#\" for m = 1:8, n = 1:8]\n",
    "for n = 1:6\n",
    "    updategrid(grid);\n",
    "end"
   ]
  },
  {
   "cell_type": "code",
   "execution_count": 82,
   "metadata": {},
   "outputs": [
    {
     "data": {
      "text/plain": [
       "2264"
      ]
     },
     "execution_count": 82,
     "metadata": {},
     "output_type": "execute_result"
    }
   ],
   "source": [
    "sum(grid)"
   ]
  },
  {
   "cell_type": "code",
   "execution_count": 87,
   "metadata": {},
   "outputs": [
    {
     "data": {
      "text/plain": [
       "12"
      ]
     },
     "execution_count": 87,
     "metadata": {},
     "output_type": "execute_result"
    }
   ],
   "source": [
    "Base.operator_precedence(:*)"
   ]
  },
  {
   "cell_type": "code",
   "execution_count": null,
   "metadata": {},
   "outputs": [],
   "source": []
  }
 ],
 "metadata": {
  "kernelspec": {
   "display_name": "Julia 1.5.2",
   "language": "julia",
   "name": "julia-1.5"
  },
  "language_info": {
   "file_extension": ".jl",
   "mimetype": "application/julia",
   "name": "julia",
   "version": "1.5.2"
  }
 },
 "nbformat": 4,
 "nbformat_minor": 4
}
