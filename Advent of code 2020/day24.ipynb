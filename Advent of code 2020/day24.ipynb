{
 "cells": [
  {
   "cell_type": "code",
   "execution_count": 20,
   "metadata": {},
   "outputs": [
    {
     "data": {
      "text/plain": [
       "getadjacent (generic function with 1 method)"
      ]
     },
     "execution_count": 20,
     "metadata": {},
     "output_type": "execute_result"
    }
   ],
   "source": [
    "# ne: 1, e: 2, se: 3, sw: 4, w: 5, nw: 6\n",
    "\n",
    "function translate(steps)\n",
    "    for (f, t) in zip([\"ne\", \"se\", \"sw\", \"nw\", \"e\", \"w\"], [\"1\", \"3\", \"4\", \"6\", \"2\", \"5\"])\n",
    "        steps = replace(steps, f => t)\n",
    "    end\n",
    "    return [parse(Int, x) for x in steps]\n",
    "end\n",
    "\n",
    "function takestep(pos, n)\n",
    "    if n == 1 #ne\n",
    "        pos[2:3] .+= 1\n",
    "    elseif n == 2 #e\n",
    "        pos[1:2] .+= 1\n",
    "    elseif n == 3 #se\n",
    "        pos[1] += 1\n",
    "        pos[3] -= 1\n",
    "    elseif n == 4 #sw\n",
    "        pos[2:3] .-= 1\n",
    "    elseif n == 5 #w\n",
    "        pos[1:2] .-= 1\n",
    "    else # nw \n",
    "        pos[1] -= 1\n",
    "        pos[3] += 1\n",
    "    end\n",
    "    return pos\n",
    "end\n",
    "\n",
    "function gototile(steps)\n",
    "    steplist = translate(steps)\n",
    "    pos = [0, 0, 0]\n",
    "    for n in steplist\n",
    "        takestep(pos, n)\n",
    "    end\n",
    "    return pos\n",
    "end\n",
    "\n",
    "function getadjacent(pos)\n",
    "    i, j, k = pos\n",
    "    return [[i, j+1, k+1], [i+1, j+1, k], [i+1, j, k-1], [i, j-1, k-1], [i-1, j-1, k], [i-1, j, k+1]]\n",
    "end"
   ]
  },
  {
   "cell_type": "code",
   "execution_count": 21,
   "metadata": {},
   "outputs": [],
   "source": [
    "input = open(\"24_input.txt\") do f\n",
    "    readlines(f)\n",
    "end;"
   ]
  },
  {
   "cell_type": "code",
   "execution_count": 81,
   "metadata": {},
   "outputs": [],
   "source": [
    "d = Dict()\n",
    "for line in input\n",
    "    xyz = gototile(line)\n",
    "    if haskey(d, xyz)\n",
    "        if d[xyz]\n",
    "            d[xyz] = false\n",
    "        else\n",
    "            d[xyz] = true\n",
    "        end\n",
    "    else\n",
    "        d[xyz] = true\n",
    "    end\n",
    "end"
   ]
  },
  {
   "cell_type": "code",
   "execution_count": 82,
   "metadata": {},
   "outputs": [
    {
     "data": {
      "text/plain": [
       "293"
      ]
     },
     "execution_count": 82,
     "metadata": {},
     "output_type": "execute_result"
    }
   ],
   "source": [
    "sum([val for (key, val) in d])"
   ]
  },
  {
   "cell_type": "code",
   "execution_count": 83,
   "metadata": {},
   "outputs": [
    {
     "data": {
      "text/plain": [
       "gotile (generic function with 1 method)"
      ]
     },
     "execution_count": 83,
     "metadata": {},
     "output_type": "execute_result"
    }
   ],
   "source": [
    "function gotile(d, n)\n",
    "    for i = 1:n\n",
    "        toblack = Array{Array{Int64, 1}, 1}()\n",
    "        towhite = Array{Array{Int64, 1}, 1}()\n",
    "        for (key, val) in d\n",
    "            adjkeys = getadjacent(key)\n",
    "            s = 0\n",
    "            for adjkey in adjkeys\n",
    "                if haskey(d, adjkey)\n",
    "                    s += d[adjkey]\n",
    "                else\n",
    "                    push!(towhite, adjkey)\n",
    "                end\n",
    "            end\n",
    "            if val\n",
    "                if s ∉ [1, 2]\n",
    "                    push!(towhite, key)\n",
    "                end\n",
    "            else\n",
    "                if s == 2\n",
    "                    push!(toblack, key)\n",
    "                end\n",
    "            end\n",
    "        end\n",
    "        for key in toblack\n",
    "            d[key] = true\n",
    "        end\n",
    "        for key in towhite\n",
    "            d[key] = false\n",
    "        end\n",
    "        println(sum([v for (k, v) in d]))\n",
    "    end\n",
    "end"
   ]
  },
  {
   "cell_type": "code",
   "execution_count": 84,
   "metadata": {},
   "outputs": [],
   "source": [
    "for (key, val) in d\n",
    "    adjkeys = getadjacent(key)\n",
    "    for adjkey in adjkeys\n",
    "        if !haskey(d, adjkey)\n",
    "            d[adjkey] = false\n",
    "        end\n",
    "    end\n",
    "end"
   ]
  },
  {
   "cell_type": "code",
   "execution_count": 85,
   "metadata": {},
   "outputs": [
    {
     "name": "stdout",
     "output_type": "stream",
     "text": [
      "317\n",
      "314\n",
      "291\n",
      "322\n",
      "358\n",
      "376\n",
      "383\n",
      "404\n",
      "423\n",
      "427\n",
      "472\n",
      "478\n",
      "496\n",
      "494\n",
      "551\n",
      "545\n",
      "616\n",
      "553\n",
      "640\n",
      "626\n",
      "720\n",
      "644\n",
      "704\n",
      "718\n",
      "745\n",
      "802\n",
      "843\n",
      "796\n",
      "823\n",
      "905\n",
      "899\n",
      "922\n",
      "1055\n",
      "949\n",
      "1010\n",
      "1039\n",
      "1117\n",
      "1179\n",
      "1109\n",
      "1199\n",
      "1138\n",
      "1255\n",
      "1250\n",
      "1286\n",
      "1347\n",
      "1384\n",
      "1405\n",
      "1490\n",
      "1494\n",
      "1607\n",
      "1533\n",
      "1602\n",
      "1663\n",
      "1702\n",
      "1673\n",
      "1823\n",
      "1820\n",
      "1847\n",
      "1828\n",
      "1898\n",
      "1916\n",
      "2028\n",
      "1969\n",
      "2150\n",
      "2067\n",
      "2248\n",
      "2182\n",
      "2186\n",
      "2260\n",
      "2403\n",
      "2389\n",
      "2446\n",
      "2466\n",
      "2626\n",
      "2539\n",
      "2659\n",
      "2730\n",
      "2731\n",
      "2819\n",
      "2766\n",
      "2982\n",
      "2879\n",
      "2877\n",
      "3098\n",
      "3001\n",
      "3102\n",
      "3215\n",
      "3185\n",
      "3282\n",
      "3408\n",
      "3415\n",
      "3369\n",
      "3535\n",
      "3475\n",
      "3763\n",
      "3753\n",
      "3785\n",
      "3698\n",
      "3961\n",
      "3967\n",
      " 18.378452 seconds (12.70 M allocations: 1.342 GiB, 2.68% gc time)\n"
     ]
    }
   ],
   "source": [
    "@time gotile(d, 100)"
   ]
  },
  {
   "cell_type": "code",
   "execution_count": 38,
   "metadata": {},
   "outputs": [
    {
     "data": {
      "text/plain": [
       "4096"
      ]
     },
     "execution_count": 38,
     "metadata": {},
     "output_type": "execute_result"
    }
   ],
   "source": [
    "sum([v for (k, v) in d])"
   ]
  },
  {
   "cell_type": "code",
   "execution_count": 213,
   "metadata": {},
   "outputs": [
    {
     "data": {
      "text/plain": [
       "Dict{Any,Any} with 528937 entries:\n",
       "  [404, 80, -324]   => false\n",
       "  [-18, 213, 231]   => false\n",
       "  [39, 116, 77]     => false\n",
       "  [341, 40, -301]   => false\n",
       "  [-270, -178, 92]  => false\n",
       "  [178, 109, -69]   => false\n",
       "  [362, 270, -92]   => false\n",
       "  [409, 222, -187]  => false\n",
       "  [-27, 262, 289]   => false\n",
       "  [19, -47, -66]    => false\n",
       "  [-133, -82, 51]   => false\n",
       "  [363, 9, -354]    => false\n",
       "  [363, 44, -319]   => false\n",
       "  [-164, -232, -68] => false\n",
       "  [-235, -117, 118] => false\n",
       "  [160, 13, -147]   => false\n",
       "  [330, 108, -222]  => false\n",
       "  [-205, 150, 355]  => false\n",
       "  [-75, 5, 80]      => false\n",
       "  [-192, 158, 350]  => false\n",
       "  [-346, -307, 39]  => false\n",
       "  [359, 300, -59]   => false\n",
       "  [-21, 336, 357]   => false\n",
       "  [286, 11, -275]   => false\n",
       "  [-261, 135, 396]  => false\n",
       "  ⋮                 => ⋮"
      ]
     },
     "execution_count": 213,
     "metadata": {},
     "output_type": "execute_result"
    }
   ],
   "source": [
    "d"
   ]
  },
  {
   "cell_type": "code",
   "execution_count": null,
   "metadata": {},
   "outputs": [],
   "source": []
  }
 ],
 "metadata": {
  "kernelspec": {
   "display_name": "Julia 1.5.2",
   "language": "julia",
   "name": "julia-1.5"
  },
  "language_info": {
   "file_extension": ".jl",
   "mimetype": "application/julia",
   "name": "julia",
   "version": "1.5.2"
  }
 },
 "nbformat": 4,
 "nbformat_minor": 4
}
