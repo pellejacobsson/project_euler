{
 "cells": [
  {
   "cell_type": "code",
   "execution_count": 14,
   "metadata": {},
   "outputs": [],
   "source": [
    "m = open(\"3_input.txt\") do f\n",
    "    readlines(f)\n",
    "end\n",
    "\n",
    "l = length(m)\n",
    "for i = 1:l\n",
    "    m[i] = repeat(m[i], 5*l)\n",
    "end"
   ]
  },
  {
   "cell_type": "code",
   "execution_count": 33,
   "metadata": {},
   "outputs": [],
   "source": [
    "tcount = []\n",
    "dinc = [1, 1, 1, 1, 2]\n",
    "rinc = [1, 3, 5, 7, 1]\n",
    "for (d, r) in zip(dinc, rinc)\n",
    "    count = 0\n",
    "    j = 1\n",
    "    for i = 1:d:l\n",
    "        if m[i][j] == '#'\n",
    "            count += 1\n",
    "        end\n",
    "        j += r\n",
    "    end\n",
    "    push!(tcount, count)\n",
    "end\n",
    "    "
   ]
  },
  {
   "cell_type": "code",
   "execution_count": 34,
   "metadata": {},
   "outputs": [
    {
     "data": {
      "text/plain": [
       "5-element Array{Any,1}:\n",
       "  86\n",
       " 187\n",
       "  75\n",
       "  89\n",
       "  44"
      ]
     },
     "execution_count": 34,
     "metadata": {},
     "output_type": "execute_result"
    }
   ],
   "source": [
    "tcount"
   ]
  },
  {
   "cell_type": "code",
   "execution_count": 36,
   "metadata": {},
   "outputs": [
    {
     "data": {
      "text/plain": [
       "4723283400"
      ]
     },
     "execution_count": 36,
     "metadata": {},
     "output_type": "execute_result"
    }
   ],
   "source": [
    "prod(tcount)"
   ]
  },
  {
   "cell_type": "code",
   "execution_count": null,
   "metadata": {},
   "outputs": [],
   "source": []
  }
 ],
 "metadata": {
  "kernelspec": {
   "display_name": "Julia 1.5.2",
   "language": "julia",
   "name": "julia-1.5"
  },
  "language_info": {
   "file_extension": ".jl",
   "mimetype": "application/julia",
   "name": "julia",
   "version": "1.5.2"
  }
 },
 "nbformat": 4,
 "nbformat_minor": 4
}
